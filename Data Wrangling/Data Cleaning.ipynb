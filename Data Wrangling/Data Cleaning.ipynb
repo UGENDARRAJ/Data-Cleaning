{
 "cells": [
  {
   "cell_type": "code",
   "execution_count": 1,
   "metadata": {},
   "outputs": [],
   "source": [
    "# Importing pandas to manipulate the datas\n",
    "import warnings\n",
    "warnings.filterwarnings('ignore')\n",
    "import pandas as pd\n",
    "import numpy as np \n",
    "import matplotlib.pyplot as plt\n",
    "import seaborn as sns\n",
    "# Importing the csv file\n",
    "df=pd.read_csv(\"Dataset.csv\")"
   ]
  },
  {
   "cell_type": "code",
   "execution_count": 2,
   "metadata": {},
   "outputs": [
    {
     "data": {
      "text/html": [
       "<div>\n",
       "<style scoped>\n",
       "    .dataframe tbody tr th:only-of-type {\n",
       "        vertical-align: middle;\n",
       "    }\n",
       "\n",
       "    .dataframe tbody tr th {\n",
       "        vertical-align: top;\n",
       "    }\n",
       "\n",
       "    .dataframe thead th {\n",
       "        text-align: right;\n",
       "    }\n",
       "</style>\n",
       "<table border=\"1\" class=\"dataframe\">\n",
       "  <thead>\n",
       "    <tr style=\"text-align: right;\">\n",
       "      <th></th>\n",
       "      <th>Player</th>\n",
       "      <th>Span</th>\n",
       "      <th>Mat</th>\n",
       "      <th>Inns</th>\n",
       "      <th>NO</th>\n",
       "      <th>Runs</th>\n",
       "      <th>HS</th>\n",
       "      <th>Ave</th>\n",
       "      <th>BF</th>\n",
       "      <th>SR</th>\n",
       "      <th>100</th>\n",
       "      <th>50</th>\n",
       "      <th>0</th>\n",
       "      <th>4s</th>\n",
       "      <th>6s</th>\n",
       "    </tr>\n",
       "  </thead>\n",
       "  <tbody>\n",
       "    <tr>\n",
       "      <th>0</th>\n",
       "      <td>DG Bradman (AUS)</td>\n",
       "      <td>1928-1948</td>\n",
       "      <td>52</td>\n",
       "      <td>80</td>\n",
       "      <td>10</td>\n",
       "      <td>6996</td>\n",
       "      <td>334</td>\n",
       "      <td>99.94</td>\n",
       "      <td>9800+</td>\n",
       "      <td>58.6</td>\n",
       "      <td>29</td>\n",
       "      <td>13</td>\n",
       "      <td>7</td>\n",
       "      <td>626+</td>\n",
       "      <td>6</td>\n",
       "    </tr>\n",
       "    <tr>\n",
       "      <th>1</th>\n",
       "      <td>HC Brook (ENG)</td>\n",
       "      <td>2022-2023</td>\n",
       "      <td>12</td>\n",
       "      <td>20</td>\n",
       "      <td>1</td>\n",
       "      <td>1181</td>\n",
       "      <td>186</td>\n",
       "      <td>62.15</td>\n",
       "      <td>1287</td>\n",
       "      <td>91.76</td>\n",
       "      <td>4</td>\n",
       "      <td>7</td>\n",
       "      <td>1</td>\n",
       "      <td>141</td>\n",
       "      <td>23</td>\n",
       "    </tr>\n",
       "    <tr>\n",
       "      <th>2</th>\n",
       "      <td>AC Voges (AUS)</td>\n",
       "      <td>2015-2016</td>\n",
       "      <td>20</td>\n",
       "      <td>31</td>\n",
       "      <td>7</td>\n",
       "      <td>1485</td>\n",
       "      <td>269*</td>\n",
       "      <td>61.87</td>\n",
       "      <td>2667</td>\n",
       "      <td>55.68</td>\n",
       "      <td>5</td>\n",
       "      <td>4</td>\n",
       "      <td>2</td>\n",
       "      <td>186</td>\n",
       "      <td>5</td>\n",
       "    </tr>\n",
       "    <tr>\n",
       "      <th>3</th>\n",
       "      <td>RG Pollock (SA)</td>\n",
       "      <td>1963-1970</td>\n",
       "      <td>23</td>\n",
       "      <td>41</td>\n",
       "      <td>4</td>\n",
       "      <td>2256</td>\n",
       "      <td>274</td>\n",
       "      <td>60.97</td>\n",
       "      <td>1707+</td>\n",
       "      <td>54.48</td>\n",
       "      <td>7</td>\n",
       "      <td>11</td>\n",
       "      <td>1</td>\n",
       "      <td>246+</td>\n",
       "      <td>11</td>\n",
       "    </tr>\n",
       "    <tr>\n",
       "      <th>4</th>\n",
       "      <td>GA Headley (WI)</td>\n",
       "      <td>1930-1954</td>\n",
       "      <td>22</td>\n",
       "      <td>40</td>\n",
       "      <td>4</td>\n",
       "      <td>2190</td>\n",
       "      <td>270*</td>\n",
       "      <td>60.83</td>\n",
       "      <td>416+</td>\n",
       "      <td>56</td>\n",
       "      <td>10</td>\n",
       "      <td>5</td>\n",
       "      <td>2</td>\n",
       "      <td>104+</td>\n",
       "      <td>1</td>\n",
       "    </tr>\n",
       "    <tr>\n",
       "      <th>...</th>\n",
       "      <td>...</td>\n",
       "      <td>...</td>\n",
       "      <td>...</td>\n",
       "      <td>...</td>\n",
       "      <td>...</td>\n",
       "      <td>...</td>\n",
       "      <td>...</td>\n",
       "      <td>...</td>\n",
       "      <td>...</td>\n",
       "      <td>...</td>\n",
       "      <td>...</td>\n",
       "      <td>...</td>\n",
       "      <td>...</td>\n",
       "      <td>...</td>\n",
       "      <td>...</td>\n",
       "    </tr>\n",
       "    <tr>\n",
       "      <th>59</th>\n",
       "      <td>KD Walters (AUS)</td>\n",
       "      <td>1965-1981</td>\n",
       "      <td>74</td>\n",
       "      <td>125</td>\n",
       "      <td>14</td>\n",
       "      <td>5357</td>\n",
       "      <td>250</td>\n",
       "      <td>48.26</td>\n",
       "      <td>8662+</td>\n",
       "      <td>49.16</td>\n",
       "      <td>15</td>\n",
       "      <td>33</td>\n",
       "      <td>4</td>\n",
       "      <td>525+</td>\n",
       "      <td>23</td>\n",
       "    </tr>\n",
       "    <tr>\n",
       "      <th>60</th>\n",
       "      <td>GC Smith (ICC/SA)</td>\n",
       "      <td>2002-2014</td>\n",
       "      <td>117</td>\n",
       "      <td>205</td>\n",
       "      <td>13</td>\n",
       "      <td>9265</td>\n",
       "      <td>277</td>\n",
       "      <td>48.25</td>\n",
       "      <td>15525</td>\n",
       "      <td>59.67</td>\n",
       "      <td>27</td>\n",
       "      <td>38</td>\n",
       "      <td>11</td>\n",
       "      <td>1165</td>\n",
       "      <td>24</td>\n",
       "    </tr>\n",
       "    <tr>\n",
       "      <th>61</th>\n",
       "      <td>WH Ponsford (AUS)</td>\n",
       "      <td>1924-1934</td>\n",
       "      <td>29</td>\n",
       "      <td>48</td>\n",
       "      <td>4</td>\n",
       "      <td>2122</td>\n",
       "      <td>266</td>\n",
       "      <td>48.22</td>\n",
       "      <td>3118+</td>\n",
       "      <td>44.77</td>\n",
       "      <td>7</td>\n",
       "      <td>6</td>\n",
       "      <td>1</td>\n",
       "      <td>119+</td>\n",
       "      <td>0</td>\n",
       "    </tr>\n",
       "    <tr>\n",
       "      <th>62</th>\n",
       "      <td>SJ McCabe (AUS)</td>\n",
       "      <td>1930-1938</td>\n",
       "      <td>39</td>\n",
       "      <td>62</td>\n",
       "      <td>5</td>\n",
       "      <td>2748</td>\n",
       "      <td>232</td>\n",
       "      <td>48.21</td>\n",
       "      <td>3217+</td>\n",
       "      <td>60.02</td>\n",
       "      <td>6</td>\n",
       "      <td>13</td>\n",
       "      <td>4</td>\n",
       "      <td>241+</td>\n",
       "      <td>5+</td>\n",
       "    </tr>\n",
       "    <tr>\n",
       "      <th>63</th>\n",
       "      <td>DR Jardine (ENG)</td>\n",
       "      <td>1928-1934</td>\n",
       "      <td>22</td>\n",
       "      <td>33</td>\n",
       "      <td>6</td>\n",
       "      <td>1296</td>\n",
       "      <td>127</td>\n",
       "      <td>48.00</td>\n",
       "      <td>2110+</td>\n",
       "      <td>25.59</td>\n",
       "      <td>1</td>\n",
       "      <td>10</td>\n",
       "      <td>2</td>\n",
       "      <td>53+</td>\n",
       "      <td>0</td>\n",
       "    </tr>\n",
       "  </tbody>\n",
       "</table>\n",
       "<p>64 rows × 15 columns</p>\n",
       "</div>"
      ],
      "text/plain": [
       "               Player       Span  Mat  Inns  NO  Runs    HS    Ave     BF  \\\n",
       "0    DG Bradman (AUS)  1928-1948   52    80  10  6996   334  99.94  9800+   \n",
       "1      HC Brook (ENG)  2022-2023   12    20   1  1181   186  62.15   1287   \n",
       "2      AC Voges (AUS)  2015-2016   20    31   7  1485  269*  61.87   2667   \n",
       "3     RG Pollock (SA)  1963-1970   23    41   4  2256   274  60.97  1707+   \n",
       "4     GA Headley (WI)  1930-1954   22    40   4  2190  270*  60.83   416+   \n",
       "..                ...        ...  ...   ...  ..   ...   ...    ...    ...   \n",
       "59   KD Walters (AUS)  1965-1981   74   125  14  5357   250  48.26  8662+   \n",
       "60  GC Smith (ICC/SA)  2002-2014  117   205  13  9265   277  48.25  15525   \n",
       "61  WH Ponsford (AUS)  1924-1934   29    48   4  2122   266  48.22  3118+   \n",
       "62    SJ McCabe (AUS)  1930-1938   39    62   5  2748   232  48.21  3217+   \n",
       "63   DR Jardine (ENG)  1928-1934   22    33   6  1296   127  48.00  2110+   \n",
       "\n",
       "       SR  100  50   0    4s  6s  \n",
       "0    58.6   29  13   7  626+   6  \n",
       "1   91.76    4   7   1   141  23  \n",
       "2   55.68    5   4   2   186   5  \n",
       "3   54.48    7  11   1  246+  11  \n",
       "4      56   10   5   2  104+   1  \n",
       "..    ...  ...  ..  ..   ...  ..  \n",
       "59  49.16   15  33   4  525+  23  \n",
       "60  59.67   27  38  11  1165  24  \n",
       "61  44.77    7   6   1  119+   0  \n",
       "62  60.02    6  13   4  241+  5+  \n",
       "63  25.59    1  10   2   53+   0  \n",
       "\n",
       "[64 rows x 15 columns]"
      ]
     },
     "execution_count": 2,
     "metadata": {},
     "output_type": "execute_result"
    }
   ],
   "source": [
    "df"
   ]
  },
  {
   "cell_type": "code",
   "execution_count": 3,
   "metadata": {},
   "outputs": [],
   "source": [
    "df = df.rename(columns={'Mat':'Matches', 'NO':'Not_outs', 'HS':'Highest_Inns_score', 'BF':'Balls_faced', 'SR':'Batting_strike_rate'  })"
   ]
  },
  {
   "cell_type": "code",
   "execution_count": 4,
   "metadata": {},
   "outputs": [
    {
     "data": {
      "text/html": [
       "<div>\n",
       "<style scoped>\n",
       "    .dataframe tbody tr th:only-of-type {\n",
       "        vertical-align: middle;\n",
       "    }\n",
       "\n",
       "    .dataframe tbody tr th {\n",
       "        vertical-align: top;\n",
       "    }\n",
       "\n",
       "    .dataframe thead th {\n",
       "        text-align: right;\n",
       "    }\n",
       "</style>\n",
       "<table border=\"1\" class=\"dataframe\">\n",
       "  <thead>\n",
       "    <tr style=\"text-align: right;\">\n",
       "      <th></th>\n",
       "      <th>Player</th>\n",
       "      <th>Span</th>\n",
       "      <th>Matches</th>\n",
       "      <th>Inns</th>\n",
       "      <th>Not_outs</th>\n",
       "      <th>Runs</th>\n",
       "      <th>Highest_Inns_score</th>\n",
       "      <th>Ave</th>\n",
       "      <th>Balls_faced</th>\n",
       "      <th>Batting_strike_rate</th>\n",
       "      <th>100</th>\n",
       "      <th>50</th>\n",
       "      <th>0</th>\n",
       "      <th>4s</th>\n",
       "      <th>6s</th>\n",
       "    </tr>\n",
       "  </thead>\n",
       "  <tbody>\n",
       "    <tr>\n",
       "      <th>0</th>\n",
       "      <td>DG Bradman (AUS)</td>\n",
       "      <td>1928-1948</td>\n",
       "      <td>52</td>\n",
       "      <td>80</td>\n",
       "      <td>10</td>\n",
       "      <td>6996</td>\n",
       "      <td>334</td>\n",
       "      <td>99.94</td>\n",
       "      <td>9800+</td>\n",
       "      <td>58.6</td>\n",
       "      <td>29</td>\n",
       "      <td>13</td>\n",
       "      <td>7</td>\n",
       "      <td>626+</td>\n",
       "      <td>6</td>\n",
       "    </tr>\n",
       "    <tr>\n",
       "      <th>1</th>\n",
       "      <td>HC Brook (ENG)</td>\n",
       "      <td>2022-2023</td>\n",
       "      <td>12</td>\n",
       "      <td>20</td>\n",
       "      <td>1</td>\n",
       "      <td>1181</td>\n",
       "      <td>186</td>\n",
       "      <td>62.15</td>\n",
       "      <td>1287</td>\n",
       "      <td>91.76</td>\n",
       "      <td>4</td>\n",
       "      <td>7</td>\n",
       "      <td>1</td>\n",
       "      <td>141</td>\n",
       "      <td>23</td>\n",
       "    </tr>\n",
       "    <tr>\n",
       "      <th>2</th>\n",
       "      <td>AC Voges (AUS)</td>\n",
       "      <td>2015-2016</td>\n",
       "      <td>20</td>\n",
       "      <td>31</td>\n",
       "      <td>7</td>\n",
       "      <td>1485</td>\n",
       "      <td>269*</td>\n",
       "      <td>61.87</td>\n",
       "      <td>2667</td>\n",
       "      <td>55.68</td>\n",
       "      <td>5</td>\n",
       "      <td>4</td>\n",
       "      <td>2</td>\n",
       "      <td>186</td>\n",
       "      <td>5</td>\n",
       "    </tr>\n",
       "    <tr>\n",
       "      <th>3</th>\n",
       "      <td>RG Pollock (SA)</td>\n",
       "      <td>1963-1970</td>\n",
       "      <td>23</td>\n",
       "      <td>41</td>\n",
       "      <td>4</td>\n",
       "      <td>2256</td>\n",
       "      <td>274</td>\n",
       "      <td>60.97</td>\n",
       "      <td>1707+</td>\n",
       "      <td>54.48</td>\n",
       "      <td>7</td>\n",
       "      <td>11</td>\n",
       "      <td>1</td>\n",
       "      <td>246+</td>\n",
       "      <td>11</td>\n",
       "    </tr>\n",
       "    <tr>\n",
       "      <th>4</th>\n",
       "      <td>GA Headley (WI)</td>\n",
       "      <td>1930-1954</td>\n",
       "      <td>22</td>\n",
       "      <td>40</td>\n",
       "      <td>4</td>\n",
       "      <td>2190</td>\n",
       "      <td>270*</td>\n",
       "      <td>60.83</td>\n",
       "      <td>416+</td>\n",
       "      <td>56</td>\n",
       "      <td>10</td>\n",
       "      <td>5</td>\n",
       "      <td>2</td>\n",
       "      <td>104+</td>\n",
       "      <td>1</td>\n",
       "    </tr>\n",
       "    <tr>\n",
       "      <th>...</th>\n",
       "      <td>...</td>\n",
       "      <td>...</td>\n",
       "      <td>...</td>\n",
       "      <td>...</td>\n",
       "      <td>...</td>\n",
       "      <td>...</td>\n",
       "      <td>...</td>\n",
       "      <td>...</td>\n",
       "      <td>...</td>\n",
       "      <td>...</td>\n",
       "      <td>...</td>\n",
       "      <td>...</td>\n",
       "      <td>...</td>\n",
       "      <td>...</td>\n",
       "      <td>...</td>\n",
       "    </tr>\n",
       "    <tr>\n",
       "      <th>59</th>\n",
       "      <td>KD Walters (AUS)</td>\n",
       "      <td>1965-1981</td>\n",
       "      <td>74</td>\n",
       "      <td>125</td>\n",
       "      <td>14</td>\n",
       "      <td>5357</td>\n",
       "      <td>250</td>\n",
       "      <td>48.26</td>\n",
       "      <td>8662+</td>\n",
       "      <td>49.16</td>\n",
       "      <td>15</td>\n",
       "      <td>33</td>\n",
       "      <td>4</td>\n",
       "      <td>525+</td>\n",
       "      <td>23</td>\n",
       "    </tr>\n",
       "    <tr>\n",
       "      <th>60</th>\n",
       "      <td>GC Smith (ICC/SA)</td>\n",
       "      <td>2002-2014</td>\n",
       "      <td>117</td>\n",
       "      <td>205</td>\n",
       "      <td>13</td>\n",
       "      <td>9265</td>\n",
       "      <td>277</td>\n",
       "      <td>48.25</td>\n",
       "      <td>15525</td>\n",
       "      <td>59.67</td>\n",
       "      <td>27</td>\n",
       "      <td>38</td>\n",
       "      <td>11</td>\n",
       "      <td>1165</td>\n",
       "      <td>24</td>\n",
       "    </tr>\n",
       "    <tr>\n",
       "      <th>61</th>\n",
       "      <td>WH Ponsford (AUS)</td>\n",
       "      <td>1924-1934</td>\n",
       "      <td>29</td>\n",
       "      <td>48</td>\n",
       "      <td>4</td>\n",
       "      <td>2122</td>\n",
       "      <td>266</td>\n",
       "      <td>48.22</td>\n",
       "      <td>3118+</td>\n",
       "      <td>44.77</td>\n",
       "      <td>7</td>\n",
       "      <td>6</td>\n",
       "      <td>1</td>\n",
       "      <td>119+</td>\n",
       "      <td>0</td>\n",
       "    </tr>\n",
       "    <tr>\n",
       "      <th>62</th>\n",
       "      <td>SJ McCabe (AUS)</td>\n",
       "      <td>1930-1938</td>\n",
       "      <td>39</td>\n",
       "      <td>62</td>\n",
       "      <td>5</td>\n",
       "      <td>2748</td>\n",
       "      <td>232</td>\n",
       "      <td>48.21</td>\n",
       "      <td>3217+</td>\n",
       "      <td>60.02</td>\n",
       "      <td>6</td>\n",
       "      <td>13</td>\n",
       "      <td>4</td>\n",
       "      <td>241+</td>\n",
       "      <td>5+</td>\n",
       "    </tr>\n",
       "    <tr>\n",
       "      <th>63</th>\n",
       "      <td>DR Jardine (ENG)</td>\n",
       "      <td>1928-1934</td>\n",
       "      <td>22</td>\n",
       "      <td>33</td>\n",
       "      <td>6</td>\n",
       "      <td>1296</td>\n",
       "      <td>127</td>\n",
       "      <td>48.00</td>\n",
       "      <td>2110+</td>\n",
       "      <td>25.59</td>\n",
       "      <td>1</td>\n",
       "      <td>10</td>\n",
       "      <td>2</td>\n",
       "      <td>53+</td>\n",
       "      <td>0</td>\n",
       "    </tr>\n",
       "  </tbody>\n",
       "</table>\n",
       "<p>64 rows × 15 columns</p>\n",
       "</div>"
      ],
      "text/plain": [
       "               Player       Span  Matches  Inns  Not_outs  Runs  \\\n",
       "0    DG Bradman (AUS)  1928-1948       52    80        10  6996   \n",
       "1      HC Brook (ENG)  2022-2023       12    20         1  1181   \n",
       "2      AC Voges (AUS)  2015-2016       20    31         7  1485   \n",
       "3     RG Pollock (SA)  1963-1970       23    41         4  2256   \n",
       "4     GA Headley (WI)  1930-1954       22    40         4  2190   \n",
       "..                ...        ...      ...   ...       ...   ...   \n",
       "59   KD Walters (AUS)  1965-1981       74   125        14  5357   \n",
       "60  GC Smith (ICC/SA)  2002-2014      117   205        13  9265   \n",
       "61  WH Ponsford (AUS)  1924-1934       29    48         4  2122   \n",
       "62    SJ McCabe (AUS)  1930-1938       39    62         5  2748   \n",
       "63   DR Jardine (ENG)  1928-1934       22    33         6  1296   \n",
       "\n",
       "   Highest_Inns_score    Ave Balls_faced Batting_strike_rate  100  50   0  \\\n",
       "0                 334  99.94       9800+                58.6   29  13   7   \n",
       "1                 186  62.15        1287               91.76    4   7   1   \n",
       "2                269*  61.87        2667               55.68    5   4   2   \n",
       "3                 274  60.97       1707+               54.48    7  11   1   \n",
       "4                270*  60.83        416+                  56   10   5   2   \n",
       "..                ...    ...         ...                 ...  ...  ..  ..   \n",
       "59                250  48.26       8662+               49.16   15  33   4   \n",
       "60                277  48.25       15525               59.67   27  38  11   \n",
       "61                266  48.22       3118+               44.77    7   6   1   \n",
       "62                232  48.21       3217+               60.02    6  13   4   \n",
       "63                127  48.00       2110+               25.59    1  10   2   \n",
       "\n",
       "      4s  6s  \n",
       "0   626+   6  \n",
       "1    141  23  \n",
       "2    186   5  \n",
       "3   246+  11  \n",
       "4   104+   1  \n",
       "..   ...  ..  \n",
       "59  525+  23  \n",
       "60  1165  24  \n",
       "61  119+   0  \n",
       "62  241+  5+  \n",
       "63   53+   0  \n",
       "\n",
       "[64 rows x 15 columns]"
      ]
     },
     "execution_count": 4,
     "metadata": {},
     "output_type": "execute_result"
    }
   ],
   "source": [
    "df"
   ]
  },
  {
   "cell_type": "code",
   "execution_count": 5,
   "metadata": {},
   "outputs": [
    {
     "name": "stdout",
     "output_type": "stream",
     "text": [
      "             Player       Span  Matches  Inns  Not_outs  Runs  \\\n",
      "0  DG Bradman (AUS)  1928-1948       52    80        10  6996   \n",
      "1    HC Brook (ENG)  2022-2023       12    20         1  1181   \n",
      "2    AC Voges (AUS)  2015-2016       20    31         7  1485   \n",
      "3   RG Pollock (SA)  1963-1970       23    41         4  2256   \n",
      "4   GA Headley (WI)  1930-1954       22    40         4  2190   \n",
      "\n",
      "  Highest_Inns_score    Ave Balls_faced Batting_strike_rate  100  50  0    4s  \\\n",
      "0                334  99.94       9800+                58.6   29  13  7  626+   \n",
      "1                186  62.15        1287               91.76    4   7  1   141   \n",
      "2               269*  61.87        2667               55.68    5   4  2   186   \n",
      "3                274  60.97       1707+               54.48    7  11  1  246+   \n",
      "4               270*  60.83        416+                  56   10   5  2  104+   \n",
      "\n",
      "   6s  \n",
      "0   6  \n",
      "1  23  \n",
      "2   5  \n",
      "3  11  \n",
      "4   1  \n",
      "               Player       Span  Matches  Inns  Not_outs  Runs  \\\n",
      "59   KD Walters (AUS)  1965-1981       74   125        14  5357   \n",
      "60  GC Smith (ICC/SA)  2002-2014      117   205        13  9265   \n",
      "61  WH Ponsford (AUS)  1924-1934       29    48         4  2122   \n",
      "62    SJ McCabe (AUS)  1930-1938       39    62         5  2748   \n",
      "63   DR Jardine (ENG)  1928-1934       22    33         6  1296   \n",
      "\n",
      "   Highest_Inns_score    Ave Balls_faced Batting_strike_rate  100  50   0  \\\n",
      "59                250  48.26       8662+               49.16   15  33   4   \n",
      "60                277  48.25       15525               59.67   27  38  11   \n",
      "61                266  48.22       3118+               44.77    7   6   1   \n",
      "62                232  48.21       3217+               60.02    6  13   4   \n",
      "63                127  48.00       2110+               25.59    1  10   2   \n",
      "\n",
      "      4s  6s  \n",
      "59  525+  23  \n",
      "60  1165  24  \n",
      "61  119+   0  \n",
      "62  241+  5+  \n",
      "63   53+   0  \n"
     ]
    }
   ],
   "source": [
    "print(df.head())\n",
    "print(df.tail())"
   ]
  },
  {
   "cell_type": "code",
   "execution_count": 6,
   "metadata": {},
   "outputs": [
    {
     "data": {
      "text/plain": [
       "Player                 False\n",
       "Span                   False\n",
       "Matches                False\n",
       "Inns                   False\n",
       "Not_outs               False\n",
       "Runs                   False\n",
       "Highest_Inns_score     False\n",
       "Ave                    False\n",
       "Balls_faced             True\n",
       "Batting_strike_rate    False\n",
       "100                    False\n",
       "50                     False\n",
       "0                      False\n",
       "4s                     False\n",
       "6s                     False\n",
       "dtype: bool"
      ]
     },
     "execution_count": 6,
     "metadata": {},
     "output_type": "execute_result"
    }
   ],
   "source": [
    "df.isnull().any()"
   ]
  },
  {
   "cell_type": "code",
   "execution_count": 7,
   "metadata": {},
   "outputs": [
    {
     "data": {
      "text/plain": [
       "0     True\n",
       "1     True\n",
       "2     True\n",
       "3     True\n",
       "4     True\n",
       "      ... \n",
       "59    True\n",
       "60    True\n",
       "61    True\n",
       "62    True\n",
       "63    True\n",
       "Name: Balls_faced, Length: 64, dtype: bool"
      ]
     },
     "execution_count": 7,
     "metadata": {},
     "output_type": "execute_result"
    }
   ],
   "source": [
    "df['Balls_faced'] == df['Balls_faced'].fillna(0)"
   ]
  },
  {
   "cell_type": "code",
   "execution_count": 8,
   "metadata": {},
   "outputs": [
    {
     "data": {
      "text/plain": [
       "0     True\n",
       "1     True\n",
       "2     True\n",
       "3     True\n",
       "4     True\n",
       "      ... \n",
       "59    True\n",
       "60    True\n",
       "61    True\n",
       "62    True\n",
       "63    True\n",
       "Name: Balls_faced, Length: 64, dtype: bool"
      ]
     },
     "execution_count": 8,
     "metadata": {},
     "output_type": "execute_result"
    }
   ],
   "source": [
    "df['Batting_strike_rate'] = df['Batting_strike_rate'].fillna(0)\n",
    "df['Balls_faced'] == df['Balls_faced'].fillna(0)\n"
   ]
  },
  {
   "cell_type": "code",
   "execution_count": 9,
   "metadata": {},
   "outputs": [
    {
     "data": {
      "text/html": [
       "<div>\n",
       "<style scoped>\n",
       "    .dataframe tbody tr th:only-of-type {\n",
       "        vertical-align: middle;\n",
       "    }\n",
       "\n",
       "    .dataframe tbody tr th {\n",
       "        vertical-align: top;\n",
       "    }\n",
       "\n",
       "    .dataframe thead th {\n",
       "        text-align: right;\n",
       "    }\n",
       "</style>\n",
       "<table border=\"1\" class=\"dataframe\">\n",
       "  <thead>\n",
       "    <tr style=\"text-align: right;\">\n",
       "      <th></th>\n",
       "      <th>Player</th>\n",
       "      <th>Span</th>\n",
       "      <th>Matches</th>\n",
       "      <th>Inns</th>\n",
       "      <th>Not_outs</th>\n",
       "      <th>Runs</th>\n",
       "      <th>Highest_Inns_score</th>\n",
       "      <th>Ave</th>\n",
       "      <th>Balls_faced</th>\n",
       "      <th>Batting_strike_rate</th>\n",
       "      <th>100</th>\n",
       "      <th>50</th>\n",
       "      <th>0</th>\n",
       "      <th>4s</th>\n",
       "      <th>6s</th>\n",
       "    </tr>\n",
       "  </thead>\n",
       "  <tbody>\n",
       "    <tr>\n",
       "      <th>0</th>\n",
       "      <td>DG Bradman (AUS)</td>\n",
       "      <td>1928-1948</td>\n",
       "      <td>52</td>\n",
       "      <td>80</td>\n",
       "      <td>10</td>\n",
       "      <td>6996</td>\n",
       "      <td>334</td>\n",
       "      <td>99.94</td>\n",
       "      <td>9800+</td>\n",
       "      <td>58.6</td>\n",
       "      <td>29</td>\n",
       "      <td>13</td>\n",
       "      <td>7</td>\n",
       "      <td>626+</td>\n",
       "      <td>6</td>\n",
       "    </tr>\n",
       "    <tr>\n",
       "      <th>1</th>\n",
       "      <td>HC Brook (ENG)</td>\n",
       "      <td>2022-2023</td>\n",
       "      <td>12</td>\n",
       "      <td>20</td>\n",
       "      <td>1</td>\n",
       "      <td>1181</td>\n",
       "      <td>186</td>\n",
       "      <td>62.15</td>\n",
       "      <td>1287</td>\n",
       "      <td>91.76</td>\n",
       "      <td>4</td>\n",
       "      <td>7</td>\n",
       "      <td>1</td>\n",
       "      <td>141</td>\n",
       "      <td>23</td>\n",
       "    </tr>\n",
       "    <tr>\n",
       "      <th>2</th>\n",
       "      <td>AC Voges (AUS)</td>\n",
       "      <td>2015-2016</td>\n",
       "      <td>20</td>\n",
       "      <td>31</td>\n",
       "      <td>7</td>\n",
       "      <td>1485</td>\n",
       "      <td>269*</td>\n",
       "      <td>61.87</td>\n",
       "      <td>2667</td>\n",
       "      <td>55.68</td>\n",
       "      <td>5</td>\n",
       "      <td>4</td>\n",
       "      <td>2</td>\n",
       "      <td>186</td>\n",
       "      <td>5</td>\n",
       "    </tr>\n",
       "    <tr>\n",
       "      <th>3</th>\n",
       "      <td>RG Pollock (SA)</td>\n",
       "      <td>1963-1970</td>\n",
       "      <td>23</td>\n",
       "      <td>41</td>\n",
       "      <td>4</td>\n",
       "      <td>2256</td>\n",
       "      <td>274</td>\n",
       "      <td>60.97</td>\n",
       "      <td>1707+</td>\n",
       "      <td>54.48</td>\n",
       "      <td>7</td>\n",
       "      <td>11</td>\n",
       "      <td>1</td>\n",
       "      <td>246+</td>\n",
       "      <td>11</td>\n",
       "    </tr>\n",
       "    <tr>\n",
       "      <th>4</th>\n",
       "      <td>GA Headley (WI)</td>\n",
       "      <td>1930-1954</td>\n",
       "      <td>22</td>\n",
       "      <td>40</td>\n",
       "      <td>4</td>\n",
       "      <td>2190</td>\n",
       "      <td>270*</td>\n",
       "      <td>60.83</td>\n",
       "      <td>416+</td>\n",
       "      <td>56</td>\n",
       "      <td>10</td>\n",
       "      <td>5</td>\n",
       "      <td>2</td>\n",
       "      <td>104+</td>\n",
       "      <td>1</td>\n",
       "    </tr>\n",
       "    <tr>\n",
       "      <th>...</th>\n",
       "      <td>...</td>\n",
       "      <td>...</td>\n",
       "      <td>...</td>\n",
       "      <td>...</td>\n",
       "      <td>...</td>\n",
       "      <td>...</td>\n",
       "      <td>...</td>\n",
       "      <td>...</td>\n",
       "      <td>...</td>\n",
       "      <td>...</td>\n",
       "      <td>...</td>\n",
       "      <td>...</td>\n",
       "      <td>...</td>\n",
       "      <td>...</td>\n",
       "      <td>...</td>\n",
       "    </tr>\n",
       "    <tr>\n",
       "      <th>59</th>\n",
       "      <td>KD Walters (AUS)</td>\n",
       "      <td>1965-1981</td>\n",
       "      <td>74</td>\n",
       "      <td>125</td>\n",
       "      <td>14</td>\n",
       "      <td>5357</td>\n",
       "      <td>250</td>\n",
       "      <td>48.26</td>\n",
       "      <td>8662+</td>\n",
       "      <td>49.16</td>\n",
       "      <td>15</td>\n",
       "      <td>33</td>\n",
       "      <td>4</td>\n",
       "      <td>525+</td>\n",
       "      <td>23</td>\n",
       "    </tr>\n",
       "    <tr>\n",
       "      <th>60</th>\n",
       "      <td>GC Smith (ICC/SA)</td>\n",
       "      <td>2002-2014</td>\n",
       "      <td>117</td>\n",
       "      <td>205</td>\n",
       "      <td>13</td>\n",
       "      <td>9265</td>\n",
       "      <td>277</td>\n",
       "      <td>48.25</td>\n",
       "      <td>15525</td>\n",
       "      <td>59.67</td>\n",
       "      <td>27</td>\n",
       "      <td>38</td>\n",
       "      <td>11</td>\n",
       "      <td>1165</td>\n",
       "      <td>24</td>\n",
       "    </tr>\n",
       "    <tr>\n",
       "      <th>61</th>\n",
       "      <td>WH Ponsford (AUS)</td>\n",
       "      <td>1924-1934</td>\n",
       "      <td>29</td>\n",
       "      <td>48</td>\n",
       "      <td>4</td>\n",
       "      <td>2122</td>\n",
       "      <td>266</td>\n",
       "      <td>48.22</td>\n",
       "      <td>3118+</td>\n",
       "      <td>44.77</td>\n",
       "      <td>7</td>\n",
       "      <td>6</td>\n",
       "      <td>1</td>\n",
       "      <td>119+</td>\n",
       "      <td>0</td>\n",
       "    </tr>\n",
       "    <tr>\n",
       "      <th>62</th>\n",
       "      <td>SJ McCabe (AUS)</td>\n",
       "      <td>1930-1938</td>\n",
       "      <td>39</td>\n",
       "      <td>62</td>\n",
       "      <td>5</td>\n",
       "      <td>2748</td>\n",
       "      <td>232</td>\n",
       "      <td>48.21</td>\n",
       "      <td>3217+</td>\n",
       "      <td>60.02</td>\n",
       "      <td>6</td>\n",
       "      <td>13</td>\n",
       "      <td>4</td>\n",
       "      <td>241+</td>\n",
       "      <td>5+</td>\n",
       "    </tr>\n",
       "    <tr>\n",
       "      <th>63</th>\n",
       "      <td>DR Jardine (ENG)</td>\n",
       "      <td>1928-1934</td>\n",
       "      <td>22</td>\n",
       "      <td>33</td>\n",
       "      <td>6</td>\n",
       "      <td>1296</td>\n",
       "      <td>127</td>\n",
       "      <td>48.00</td>\n",
       "      <td>2110+</td>\n",
       "      <td>25.59</td>\n",
       "      <td>1</td>\n",
       "      <td>10</td>\n",
       "      <td>2</td>\n",
       "      <td>53+</td>\n",
       "      <td>0</td>\n",
       "    </tr>\n",
       "  </tbody>\n",
       "</table>\n",
       "<p>64 rows × 15 columns</p>\n",
       "</div>"
      ],
      "text/plain": [
       "               Player       Span  Matches  Inns  Not_outs  Runs  \\\n",
       "0    DG Bradman (AUS)  1928-1948       52    80        10  6996   \n",
       "1      HC Brook (ENG)  2022-2023       12    20         1  1181   \n",
       "2      AC Voges (AUS)  2015-2016       20    31         7  1485   \n",
       "3     RG Pollock (SA)  1963-1970       23    41         4  2256   \n",
       "4     GA Headley (WI)  1930-1954       22    40         4  2190   \n",
       "..                ...        ...      ...   ...       ...   ...   \n",
       "59   KD Walters (AUS)  1965-1981       74   125        14  5357   \n",
       "60  GC Smith (ICC/SA)  2002-2014      117   205        13  9265   \n",
       "61  WH Ponsford (AUS)  1924-1934       29    48         4  2122   \n",
       "62    SJ McCabe (AUS)  1930-1938       39    62         5  2748   \n",
       "63   DR Jardine (ENG)  1928-1934       22    33         6  1296   \n",
       "\n",
       "   Highest_Inns_score    Ave Balls_faced Batting_strike_rate  100  50   0  \\\n",
       "0                 334  99.94       9800+                58.6   29  13   7   \n",
       "1                 186  62.15        1287               91.76    4   7   1   \n",
       "2                269*  61.87        2667               55.68    5   4   2   \n",
       "3                 274  60.97       1707+               54.48    7  11   1   \n",
       "4                270*  60.83        416+                  56   10   5   2   \n",
       "..                ...    ...         ...                 ...  ...  ..  ..   \n",
       "59                250  48.26       8662+               49.16   15  33   4   \n",
       "60                277  48.25       15525               59.67   27  38  11   \n",
       "61                266  48.22       3118+               44.77    7   6   1   \n",
       "62                232  48.21       3217+               60.02    6  13   4   \n",
       "63                127  48.00       2110+               25.59    1  10   2   \n",
       "\n",
       "      4s  6s  \n",
       "0   626+   6  \n",
       "1    141  23  \n",
       "2    186   5  \n",
       "3   246+  11  \n",
       "4   104+   1  \n",
       "..   ...  ..  \n",
       "59  525+  23  \n",
       "60  1165  24  \n",
       "61  119+   0  \n",
       "62  241+  5+  \n",
       "63   53+   0  \n",
       "\n",
       "[64 rows x 15 columns]"
      ]
     },
     "execution_count": 9,
     "metadata": {},
     "output_type": "execute_result"
    }
   ],
   "source": [
    "df"
   ]
  },
  {
   "cell_type": "code",
   "execution_count": 10,
   "metadata": {},
   "outputs": [],
   "source": [
    "for i in df.index:\n",
    "    if df.loc[i,\"Balls_faced\"] == \"-\":\n",
    "        df.loc[i,\"Balls_faced\"] = \"NaN\""
   ]
  },
  {
   "cell_type": "code",
   "execution_count": 11,
   "metadata": {},
   "outputs": [
    {
     "name": "stdout",
     "output_type": "stream",
     "text": [
      "                      Player       Span  Matches  Inns  Not_outs   Runs Highest_Inns_score    Ave Balls_faced Batting_strike_rate  100  50   0     4s   6s\n",
      "0           DG Bradman (AUS)  1928-1948       52    80        10   6996                334  99.94       9800+                58.6   29  13   7   626+    6\n",
      "1             HC Brook (ENG)  2022-2023       12    20         1   1181                186  62.15        1287               91.76    4   7   1    141   23\n",
      "2             AC Voges (AUS)  2015-2016       20    31         7   1485               269*  61.87        2667               55.68    5   4   2    186    5\n",
      "3            RG Pollock (SA)  1963-1970       23    41         4   2256                274  60.97       1707+               54.48    7  11   1   246+   11\n",
      "4            GA Headley (WI)  1930-1954       22    40         4   2190               270*  60.83        416+                  56   10   5   2   104+    1\n",
      "5            GA Headley (WI)  1930-1954       22    40         4   2190               270*  60.83        416+                  56   10   5   2   104+    1\n",
      "6          H Sutcliffe (ENG)  1924-1935       54    84         9   4555                194  60.73       6558+               34.59   16  23   2   202+    6\n",
      "7            E Paynter (ENG)  1931-1939       20    31         5   1540                243  59.23         NaN               45.88    4   7   3   125+    4\n",
      "8        KF Barrington (ENG)  1955-1968       82   131        15   6806                256  58.67       4957+               42.42   20  35   5   591+   27\n",
      "9             ED Weekes (WI)  1948-1958       48    81         5   4455                207  58.61         NaN                   -   15  19   6   258+    2\n",
      "10          WR Hammond (ENG)  1927-1947       85   140        16   7249               336*  58.45       7491+               38.07   22  24   4   419+   27\n",
      "11           SPD Smith (AUS)  2010-2024      107   191        25   9634                239  58.03       17977               53.59   32  41   9   1056   54\n",
      "12            GS Sobers (WI)  1954-1974       93   160        21   8032               365*  57.78       4063+               53.58   26  30  12   593+  32+\n",
      "13        KC Sangakkara (SL)  2000-2015      134   233        17  12400                319  57.40       22882               54.19   38  52  11   1491   51\n",
      "14            JB Hobbs (ENG)  1908-1930       61   102         7   5410                211  56.94       5363+               46.22   15  28   4   276+    8\n",
      "15           CL Walcott (WI)  1948-1960       44    74         7   3798                220  56.68         NaN                   -   15  14   1   107+   11\n",
      "16            L Hutton (ENG)  1937-1955       79   138        15   6971                364  56.67       2844+               39.34   19  33   5   358+    7\n",
      "17        JH Kallis (ICC/SA)  1995-2013      166   280        40  13289                224  55.37       28903               45.97   45  58  16   1488   97\n",
      "18        GE Tyldesley (ENG)  1921-1929       14    20         2    990                122  55.00        178+               29.21    3   6   2    37+    2\n",
      "19        KS Williamson (NZ)  2010-2023       96   168        16   8263                251  54.36       16052               51.47   29  33  10    914   21\n",
      "20             CA Davis (WI)  1968-1973       15    29         5   1301                183  54.20        665+               35.48    4   4   1    65+    1\n",
      "21           VG Kambli (IND)  1993-1995       17    21         1   1084                227  54.20        1823               59.46    4   3   3    124    6\n",
      "22         GS Chappell (AUS)  1970-1984       87   151        19   7110               247*  53.86      13079+               51.53   24  31  12    755   16\n",
      "23         GS Chappell (AUS)  1970-1984       87   151        19   7110               247*  53.86      13079+               51.53   24  31  12    755   16\n",
      "24            AD Nourse (SA)  1935-1951       34    62         7   2960                231  53.81        108+               63.88    9  14   3   115+    6\n",
      "25        SR Tendulkar (IND)  1989-2013      200   329        33  15921               248*  53.78      29437+               54.04   51  68  14  2058+   69\n",
      "26          DJ Mitchell (NZ)  2019-2023       20    31         4   1452                190  53.77        2644               54.91    5   9   1    144   27\n",
      "27          BC Lara (ICC/WI)  1990-2006      131   232         6  11953               400*  52.88       19753               60.51   34  48  17   1559   88\n",
      "28       Javed Miandad (PAK)  1976-1993      124   189        21   8832               280*  52.57      15164+               45.99   23  43   6   788+   48\n",
      "29        R Dravid (ICC/IND)  1996-2012      164   286        32  13288                270  52.31       31258               42.51   36  63   8   1654   21\n",
      "30     Mohammad Yousuf (PAK)  1998-2010       90   156        12   7530                223  52.29       14372               52.39   24  33  11    957   51\n",
      "31         Younis Khan (PAK)  2000-2017      118   213        19  10099                313  52.05       19375               52.12   34  33  19   1082   70\n",
      "32          RT Ponting (AUS)  1995-2012      168   287        29  13378                257  51.85       22782               58.72   41  62  17   1509   73\n",
      "33             J Ryder (AUS)  1920-1929       20    32         5   1394               201*  51.62       2035+               44.86    3   9   1   102+    3\n",
      "34            A Flower (ZIM)  1992-2002       63   112        19   4794               232*  51.54       10636               45.07   12  27   5    543   20\n",
      "35          MEK Hussey (AUS)  2005-2013       79   137        16   6235                195  51.52       12436               50.13   19  29  12    685   39\n",
      "36        S Chanderpaul (WI)  1994-2015      164   280        49  11867               203*  51.37       27395               43.31   30  66  15   1285   36\n",
      "37         SM Gavaskar (IND)  1971-1987      125   214        16  10122               236*  51.12      14184+               43.35   34  45  12   908+   26\n",
      "38            SR Waugh (AUS)  1985-2004      168   260        46  10927                200  51.06       22461               48.64   32  50  22   1175   20\n",
      "39       M Labuschagne (AUS)  2018-2024       48    86         7   4015                215  50.82        7614               52.73   11  19   4    450   12\n",
      "40           ML Hayden (AUS)  1994-2009      103   184        14   8625                380  50.73       14349                60.1   30  29  14   1049   82\n",
      "41       AB de Villiers (SA)  2004-2018      114   191        18   8765               278*  50.66       16077               54.51   22  46   8   1024   64\n",
      "42           AR Border (AUS)  1978-1994      156   265        44  11174                205  50.56      27002+               41.09   27  63  11   1161   28\n",
      "43         IVA Richards (WI)  1974-1991      121   182        12   8540                291  50.23       9613+               69.77   24  45  10   952+   84\n",
      "44         DCS Compton (ENG)  1937-1957       78   131        15   5807                278  50.06       2731+               38.81   17  28  10   342+    3\n",
      "45             JE Root (ENG)  2012-2024      136   249        20  11447                254  49.98       20179               56.72   30  60  12   1248   43\n",
      "46     DPMD Jayawardene (SL)  1997-2014      149   252        15  11814                374  49.84       22959               51.45   34  50  15   1387   61\n",
      "47  Inzamam-ul-Haq (ICC/PAK)  1992-2007      120   200        22   8830                329  49.60       16345               54.02   25  46  15   1105   48\n",
      "48          FMM Worrell (WI)  1948-1963       51    87         9   3860                261  49.48        488+               40.16    9  22  11   240+   11\n",
      "49             CP Mead (ENG)  1911-1928       17    26         2   1185               182*  49.37        619+               30.04    4   3   3    38+    0\n",
      "50        V Sehwag (ICC/IND)  2001-2013      104   180         6   8586                319  49.34       10441               82.23   23  32  16   1233   91\n",
      "51            Abid Ali (PAK)  2019-2021       16    26         2   1180               215*  49.16        2445               48.26    4   3   2    148    5\n",
      "52             V Kohli (IND)  2011-2024      113   191        11   8848               254*  49.15       15924               55.56   29  30  14    991   26\n",
      "53           MJ Clarke (AUS)  2004-2015      115   198        22   8643               329*  49.10       15456               55.92   28  27   9    978   39\n",
      "54             KC Bland (SA)  1961-1966       21    39         5   1669               144*  49.08        885+               37.74    3   9   2   123+   20\n",
      "55           B Mitchell (SA)  1929-1949       42    80         9   3471               189*  48.88        158+               29.11    8  21   3    41+    1\n",
      "56      Hon.FS Jackson (ENG)  1893-1905       20    33         4   1415               144*  48.79         NaN                   -    5   6   3    51+    0\n",
      "57       TT Samaraweera (SL)  2001-2013       81   132        20   5462                231  48.76       11641               46.92   14  30  11    633    7\n",
      "58           RN Harvey (AUS)  1948-1963       79   137        10   6149                205  48.41       1799+               43.74   21  24   7   427+    1\n",
      "59          KD Walters (AUS)  1965-1981       74   125        14   5357                250  48.26       8662+               49.16   15  33   4   525+   23\n",
      "60         GC Smith (ICC/SA)  2002-2014      117   205        13   9265                277  48.25       15525               59.67   27  38  11   1165   24\n",
      "61         WH Ponsford (AUS)  1924-1934       29    48         4   2122                266  48.22       3118+               44.77    7   6   1   119+    0\n",
      "62           SJ McCabe (AUS)  1930-1938       39    62         5   2748                232  48.21       3217+               60.02    6  13   4   241+   5+\n",
      "63          DR Jardine (ENG)  1928-1934       22    33         6   1296                127  48.00       2110+               25.59    1  10   2    53+    0"
     ]
    }
   ],
   "source": [
    "print(df.to_string(), end=\"\")"
   ]
  },
  {
   "cell_type": "code",
   "execution_count": 12,
   "metadata": {},
   "outputs": [
    {
     "data": {
      "text/html": [
       "<div>\n",
       "<style scoped>\n",
       "    .dataframe tbody tr th:only-of-type {\n",
       "        vertical-align: middle;\n",
       "    }\n",
       "\n",
       "    .dataframe tbody tr th {\n",
       "        vertical-align: top;\n",
       "    }\n",
       "\n",
       "    .dataframe thead th {\n",
       "        text-align: right;\n",
       "    }\n",
       "</style>\n",
       "<table border=\"1\" class=\"dataframe\">\n",
       "  <thead>\n",
       "    <tr style=\"text-align: right;\">\n",
       "      <th></th>\n",
       "      <th>Player</th>\n",
       "      <th>Span</th>\n",
       "      <th>Matches</th>\n",
       "      <th>Inns</th>\n",
       "      <th>Not_outs</th>\n",
       "      <th>Runs</th>\n",
       "      <th>Highest_Inns_score</th>\n",
       "      <th>Ave</th>\n",
       "      <th>Balls_faced</th>\n",
       "      <th>Batting_strike_rate</th>\n",
       "      <th>100</th>\n",
       "      <th>50</th>\n",
       "      <th>0</th>\n",
       "      <th>4s</th>\n",
       "      <th>6s</th>\n",
       "    </tr>\n",
       "  </thead>\n",
       "  <tbody>\n",
       "    <tr>\n",
       "      <th>7</th>\n",
       "      <td>E Paynter (ENG)</td>\n",
       "      <td>1931-1939</td>\n",
       "      <td>20</td>\n",
       "      <td>31</td>\n",
       "      <td>5</td>\n",
       "      <td>1540</td>\n",
       "      <td>243</td>\n",
       "      <td>59.23</td>\n",
       "      <td>NaN</td>\n",
       "      <td>45.88</td>\n",
       "      <td>4</td>\n",
       "      <td>7</td>\n",
       "      <td>3</td>\n",
       "      <td>125+</td>\n",
       "      <td>4</td>\n",
       "    </tr>\n",
       "  </tbody>\n",
       "</table>\n",
       "</div>"
      ],
      "text/plain": [
       "            Player       Span  Matches  Inns  Not_outs  Runs  \\\n",
       "7  E Paynter (ENG)  1931-1939       20    31         5  1540   \n",
       "\n",
       "  Highest_Inns_score    Ave Balls_faced Batting_strike_rate  100  50  0    4s  \\\n",
       "7                243  59.23         NaN               45.88    4   7  3  125+   \n",
       "\n",
       "  6s  \n",
       "7  4  "
      ]
     },
     "execution_count": 12,
     "metadata": {},
     "output_type": "execute_result"
    }
   ],
   "source": [
    "df[df['Balls_faced'].isna()==1]"
   ]
  },
  {
   "cell_type": "code",
   "execution_count": 13,
   "metadata": {},
   "outputs": [],
   "source": [
    "df['Balls_faced'] = df['Balls_faced'].fillna(0)  # Displays the "
   ]
  },
  {
   "cell_type": "code",
   "execution_count": 14,
   "metadata": {},
   "outputs": [
    {
     "data": {
      "text/html": [
       "<div>\n",
       "<style scoped>\n",
       "    .dataframe tbody tr th:only-of-type {\n",
       "        vertical-align: middle;\n",
       "    }\n",
       "\n",
       "    .dataframe tbody tr th {\n",
       "        vertical-align: top;\n",
       "    }\n",
       "\n",
       "    .dataframe thead th {\n",
       "        text-align: right;\n",
       "    }\n",
       "</style>\n",
       "<table border=\"1\" class=\"dataframe\">\n",
       "  <thead>\n",
       "    <tr style=\"text-align: right;\">\n",
       "      <th></th>\n",
       "      <th>Player</th>\n",
       "      <th>Span</th>\n",
       "      <th>Matches</th>\n",
       "      <th>Inns</th>\n",
       "      <th>Not_outs</th>\n",
       "      <th>Runs</th>\n",
       "      <th>Highest_Inns_score</th>\n",
       "      <th>Ave</th>\n",
       "      <th>Balls_faced</th>\n",
       "      <th>Batting_strike_rate</th>\n",
       "      <th>100</th>\n",
       "      <th>50</th>\n",
       "      <th>0</th>\n",
       "      <th>4s</th>\n",
       "      <th>6s</th>\n",
       "    </tr>\n",
       "  </thead>\n",
       "  <tbody>\n",
       "    <tr>\n",
       "      <th>0</th>\n",
       "      <td>DG Bradman (AUS)</td>\n",
       "      <td>1928-1948</td>\n",
       "      <td>52</td>\n",
       "      <td>80</td>\n",
       "      <td>10</td>\n",
       "      <td>6996</td>\n",
       "      <td>334</td>\n",
       "      <td>99.94</td>\n",
       "      <td>9800+</td>\n",
       "      <td>58.6</td>\n",
       "      <td>29</td>\n",
       "      <td>13</td>\n",
       "      <td>7</td>\n",
       "      <td>626+</td>\n",
       "      <td>6</td>\n",
       "    </tr>\n",
       "    <tr>\n",
       "      <th>1</th>\n",
       "      <td>HC Brook (ENG)</td>\n",
       "      <td>2022-2023</td>\n",
       "      <td>12</td>\n",
       "      <td>20</td>\n",
       "      <td>1</td>\n",
       "      <td>1181</td>\n",
       "      <td>186</td>\n",
       "      <td>62.15</td>\n",
       "      <td>1287</td>\n",
       "      <td>91.76</td>\n",
       "      <td>4</td>\n",
       "      <td>7</td>\n",
       "      <td>1</td>\n",
       "      <td>141</td>\n",
       "      <td>23</td>\n",
       "    </tr>\n",
       "    <tr>\n",
       "      <th>2</th>\n",
       "      <td>AC Voges (AUS)</td>\n",
       "      <td>2015-2016</td>\n",
       "      <td>20</td>\n",
       "      <td>31</td>\n",
       "      <td>7</td>\n",
       "      <td>1485</td>\n",
       "      <td>269*</td>\n",
       "      <td>61.87</td>\n",
       "      <td>2667</td>\n",
       "      <td>55.68</td>\n",
       "      <td>5</td>\n",
       "      <td>4</td>\n",
       "      <td>2</td>\n",
       "      <td>186</td>\n",
       "      <td>5</td>\n",
       "    </tr>\n",
       "    <tr>\n",
       "      <th>3</th>\n",
       "      <td>RG Pollock (SA)</td>\n",
       "      <td>1963-1970</td>\n",
       "      <td>23</td>\n",
       "      <td>41</td>\n",
       "      <td>4</td>\n",
       "      <td>2256</td>\n",
       "      <td>274</td>\n",
       "      <td>60.97</td>\n",
       "      <td>1707+</td>\n",
       "      <td>54.48</td>\n",
       "      <td>7</td>\n",
       "      <td>11</td>\n",
       "      <td>1</td>\n",
       "      <td>246+</td>\n",
       "      <td>11</td>\n",
       "    </tr>\n",
       "    <tr>\n",
       "      <th>4</th>\n",
       "      <td>GA Headley (WI)</td>\n",
       "      <td>1930-1954</td>\n",
       "      <td>22</td>\n",
       "      <td>40</td>\n",
       "      <td>4</td>\n",
       "      <td>2190</td>\n",
       "      <td>270*</td>\n",
       "      <td>60.83</td>\n",
       "      <td>416+</td>\n",
       "      <td>56</td>\n",
       "      <td>10</td>\n",
       "      <td>5</td>\n",
       "      <td>2</td>\n",
       "      <td>104+</td>\n",
       "      <td>1</td>\n",
       "    </tr>\n",
       "    <tr>\n",
       "      <th>...</th>\n",
       "      <td>...</td>\n",
       "      <td>...</td>\n",
       "      <td>...</td>\n",
       "      <td>...</td>\n",
       "      <td>...</td>\n",
       "      <td>...</td>\n",
       "      <td>...</td>\n",
       "      <td>...</td>\n",
       "      <td>...</td>\n",
       "      <td>...</td>\n",
       "      <td>...</td>\n",
       "      <td>...</td>\n",
       "      <td>...</td>\n",
       "      <td>...</td>\n",
       "      <td>...</td>\n",
       "    </tr>\n",
       "    <tr>\n",
       "      <th>59</th>\n",
       "      <td>KD Walters (AUS)</td>\n",
       "      <td>1965-1981</td>\n",
       "      <td>74</td>\n",
       "      <td>125</td>\n",
       "      <td>14</td>\n",
       "      <td>5357</td>\n",
       "      <td>250</td>\n",
       "      <td>48.26</td>\n",
       "      <td>8662+</td>\n",
       "      <td>49.16</td>\n",
       "      <td>15</td>\n",
       "      <td>33</td>\n",
       "      <td>4</td>\n",
       "      <td>525+</td>\n",
       "      <td>23</td>\n",
       "    </tr>\n",
       "    <tr>\n",
       "      <th>60</th>\n",
       "      <td>GC Smith (ICC/SA)</td>\n",
       "      <td>2002-2014</td>\n",
       "      <td>117</td>\n",
       "      <td>205</td>\n",
       "      <td>13</td>\n",
       "      <td>9265</td>\n",
       "      <td>277</td>\n",
       "      <td>48.25</td>\n",
       "      <td>15525</td>\n",
       "      <td>59.67</td>\n",
       "      <td>27</td>\n",
       "      <td>38</td>\n",
       "      <td>11</td>\n",
       "      <td>1165</td>\n",
       "      <td>24</td>\n",
       "    </tr>\n",
       "    <tr>\n",
       "      <th>61</th>\n",
       "      <td>WH Ponsford (AUS)</td>\n",
       "      <td>1924-1934</td>\n",
       "      <td>29</td>\n",
       "      <td>48</td>\n",
       "      <td>4</td>\n",
       "      <td>2122</td>\n",
       "      <td>266</td>\n",
       "      <td>48.22</td>\n",
       "      <td>3118+</td>\n",
       "      <td>44.77</td>\n",
       "      <td>7</td>\n",
       "      <td>6</td>\n",
       "      <td>1</td>\n",
       "      <td>119+</td>\n",
       "      <td>0</td>\n",
       "    </tr>\n",
       "    <tr>\n",
       "      <th>62</th>\n",
       "      <td>SJ McCabe (AUS)</td>\n",
       "      <td>1930-1938</td>\n",
       "      <td>39</td>\n",
       "      <td>62</td>\n",
       "      <td>5</td>\n",
       "      <td>2748</td>\n",
       "      <td>232</td>\n",
       "      <td>48.21</td>\n",
       "      <td>3217+</td>\n",
       "      <td>60.02</td>\n",
       "      <td>6</td>\n",
       "      <td>13</td>\n",
       "      <td>4</td>\n",
       "      <td>241+</td>\n",
       "      <td>5+</td>\n",
       "    </tr>\n",
       "    <tr>\n",
       "      <th>63</th>\n",
       "      <td>DR Jardine (ENG)</td>\n",
       "      <td>1928-1934</td>\n",
       "      <td>22</td>\n",
       "      <td>33</td>\n",
       "      <td>6</td>\n",
       "      <td>1296</td>\n",
       "      <td>127</td>\n",
       "      <td>48.00</td>\n",
       "      <td>2110+</td>\n",
       "      <td>25.59</td>\n",
       "      <td>1</td>\n",
       "      <td>10</td>\n",
       "      <td>2</td>\n",
       "      <td>53+</td>\n",
       "      <td>0</td>\n",
       "    </tr>\n",
       "  </tbody>\n",
       "</table>\n",
       "<p>64 rows × 15 columns</p>\n",
       "</div>"
      ],
      "text/plain": [
       "               Player       Span  Matches  Inns  Not_outs  Runs  \\\n",
       "0    DG Bradman (AUS)  1928-1948       52    80        10  6996   \n",
       "1      HC Brook (ENG)  2022-2023       12    20         1  1181   \n",
       "2      AC Voges (AUS)  2015-2016       20    31         7  1485   \n",
       "3     RG Pollock (SA)  1963-1970       23    41         4  2256   \n",
       "4     GA Headley (WI)  1930-1954       22    40         4  2190   \n",
       "..                ...        ...      ...   ...       ...   ...   \n",
       "59   KD Walters (AUS)  1965-1981       74   125        14  5357   \n",
       "60  GC Smith (ICC/SA)  2002-2014      117   205        13  9265   \n",
       "61  WH Ponsford (AUS)  1924-1934       29    48         4  2122   \n",
       "62    SJ McCabe (AUS)  1930-1938       39    62         5  2748   \n",
       "63   DR Jardine (ENG)  1928-1934       22    33         6  1296   \n",
       "\n",
       "   Highest_Inns_score    Ave Balls_faced Batting_strike_rate  100  50   0  \\\n",
       "0                 334  99.94       9800+                58.6   29  13   7   \n",
       "1                 186  62.15        1287               91.76    4   7   1   \n",
       "2                269*  61.87        2667               55.68    5   4   2   \n",
       "3                 274  60.97       1707+               54.48    7  11   1   \n",
       "4                270*  60.83        416+                  56   10   5   2   \n",
       "..                ...    ...         ...                 ...  ...  ..  ..   \n",
       "59                250  48.26       8662+               49.16   15  33   4   \n",
       "60                277  48.25       15525               59.67   27  38  11   \n",
       "61                266  48.22       3118+               44.77    7   6   1   \n",
       "62                232  48.21       3217+               60.02    6  13   4   \n",
       "63                127  48.00       2110+               25.59    1  10   2   \n",
       "\n",
       "      4s  6s  \n",
       "0   626+   6  \n",
       "1    141  23  \n",
       "2    186   5  \n",
       "3   246+  11  \n",
       "4   104+   1  \n",
       "..   ...  ..  \n",
       "59  525+  23  \n",
       "60  1165  24  \n",
       "61  119+   0  \n",
       "62  241+  5+  \n",
       "63   53+   0  \n",
       "\n",
       "[64 rows x 15 columns]"
      ]
     },
     "execution_count": 14,
     "metadata": {},
     "output_type": "execute_result"
    }
   ],
   "source": [
    "df"
   ]
  },
  {
   "cell_type": "code",
   "execution_count": 15,
   "metadata": {},
   "outputs": [
    {
     "name": "stdout",
     "output_type": "stream",
     "text": [
      "                      Player       Span  Matches  Inns  Not_outs   Runs Highest_Inns_score    Ave Balls_faced Batting_strike_rate  100  50   0     4s   6s\n",
      "0           DG Bradman (AUS)  1928-1948       52    80        10   6996                334  99.94       9800+                58.6   29  13   7   626+    6\n",
      "1             HC Brook (ENG)  2022-2023       12    20         1   1181                186  62.15        1287               91.76    4   7   1    141   23\n",
      "2             AC Voges (AUS)  2015-2016       20    31         7   1485               269*  61.87        2667               55.68    5   4   2    186    5\n",
      "3            RG Pollock (SA)  1963-1970       23    41         4   2256                274  60.97       1707+               54.48    7  11   1   246+   11\n",
      "4            GA Headley (WI)  1930-1954       22    40         4   2190               270*  60.83        416+                  56   10   5   2   104+    1\n",
      "5            GA Headley (WI)  1930-1954       22    40         4   2190               270*  60.83        416+                  56   10   5   2   104+    1\n",
      "6          H Sutcliffe (ENG)  1924-1935       54    84         9   4555                194  60.73       6558+               34.59   16  23   2   202+    6\n",
      "7            E Paynter (ENG)  1931-1939       20    31         5   1540                243  59.23           0               45.88    4   7   3   125+    4\n",
      "8        KF Barrington (ENG)  1955-1968       82   131        15   6806                256  58.67       4957+               42.42   20  35   5   591+   27\n",
      "9             ED Weekes (WI)  1948-1958       48    81         5   4455                207  58.61         NaN                   -   15  19   6   258+    2\n",
      "10          WR Hammond (ENG)  1927-1947       85   140        16   7249               336*  58.45       7491+               38.07   22  24   4   419+   27\n",
      "11           SPD Smith (AUS)  2010-2024      107   191        25   9634                239  58.03       17977               53.59   32  41   9   1056   54\n",
      "12            GS Sobers (WI)  1954-1974       93   160        21   8032               365*  57.78       4063+               53.58   26  30  12   593+  32+\n",
      "13        KC Sangakkara (SL)  2000-2015      134   233        17  12400                319  57.40       22882               54.19   38  52  11   1491   51\n",
      "14            JB Hobbs (ENG)  1908-1930       61   102         7   5410                211  56.94       5363+               46.22   15  28   4   276+    8\n",
      "15           CL Walcott (WI)  1948-1960       44    74         7   3798                220  56.68         NaN                   -   15  14   1   107+   11\n",
      "16            L Hutton (ENG)  1937-1955       79   138        15   6971                364  56.67       2844+               39.34   19  33   5   358+    7\n",
      "17        JH Kallis (ICC/SA)  1995-2013      166   280        40  13289                224  55.37       28903               45.97   45  58  16   1488   97\n",
      "18        GE Tyldesley (ENG)  1921-1929       14    20         2    990                122  55.00        178+               29.21    3   6   2    37+    2\n",
      "19        KS Williamson (NZ)  2010-2023       96   168        16   8263                251  54.36       16052               51.47   29  33  10    914   21\n",
      "20             CA Davis (WI)  1968-1973       15    29         5   1301                183  54.20        665+               35.48    4   4   1    65+    1\n",
      "21           VG Kambli (IND)  1993-1995       17    21         1   1084                227  54.20        1823               59.46    4   3   3    124    6\n",
      "22         GS Chappell (AUS)  1970-1984       87   151        19   7110               247*  53.86      13079+               51.53   24  31  12    755   16\n",
      "23         GS Chappell (AUS)  1970-1984       87   151        19   7110               247*  53.86      13079+               51.53   24  31  12    755   16\n",
      "24            AD Nourse (SA)  1935-1951       34    62         7   2960                231  53.81        108+               63.88    9  14   3   115+    6\n",
      "25        SR Tendulkar (IND)  1989-2013      200   329        33  15921               248*  53.78      29437+               54.04   51  68  14  2058+   69\n",
      "26          DJ Mitchell (NZ)  2019-2023       20    31         4   1452                190  53.77        2644               54.91    5   9   1    144   27\n",
      "27          BC Lara (ICC/WI)  1990-2006      131   232         6  11953               400*  52.88       19753               60.51   34  48  17   1559   88\n",
      "28       Javed Miandad (PAK)  1976-1993      124   189        21   8832               280*  52.57      15164+               45.99   23  43   6   788+   48\n",
      "29        R Dravid (ICC/IND)  1996-2012      164   286        32  13288                270  52.31       31258               42.51   36  63   8   1654   21\n",
      "30     Mohammad Yousuf (PAK)  1998-2010       90   156        12   7530                223  52.29       14372               52.39   24  33  11    957   51\n",
      "31         Younis Khan (PAK)  2000-2017      118   213        19  10099                313  52.05       19375               52.12   34  33  19   1082   70\n",
      "32          RT Ponting (AUS)  1995-2012      168   287        29  13378                257  51.85       22782               58.72   41  62  17   1509   73\n",
      "33             J Ryder (AUS)  1920-1929       20    32         5   1394               201*  51.62       2035+               44.86    3   9   1   102+    3\n",
      "34            A Flower (ZIM)  1992-2002       63   112        19   4794               232*  51.54       10636               45.07   12  27   5    543   20\n",
      "35          MEK Hussey (AUS)  2005-2013       79   137        16   6235                195  51.52       12436               50.13   19  29  12    685   39\n",
      "36        S Chanderpaul (WI)  1994-2015      164   280        49  11867               203*  51.37       27395               43.31   30  66  15   1285   36\n",
      "37         SM Gavaskar (IND)  1971-1987      125   214        16  10122               236*  51.12      14184+               43.35   34  45  12   908+   26\n",
      "38            SR Waugh (AUS)  1985-2004      168   260        46  10927                200  51.06       22461               48.64   32  50  22   1175   20\n",
      "39       M Labuschagne (AUS)  2018-2024       48    86         7   4015                215  50.82        7614               52.73   11  19   4    450   12\n",
      "40           ML Hayden (AUS)  1994-2009      103   184        14   8625                380  50.73       14349                60.1   30  29  14   1049   82\n",
      "41       AB de Villiers (SA)  2004-2018      114   191        18   8765               278*  50.66       16077               54.51   22  46   8   1024   64\n",
      "42           AR Border (AUS)  1978-1994      156   265        44  11174                205  50.56      27002+               41.09   27  63  11   1161   28\n",
      "43         IVA Richards (WI)  1974-1991      121   182        12   8540                291  50.23       9613+               69.77   24  45  10   952+   84\n",
      "44         DCS Compton (ENG)  1937-1957       78   131        15   5807                278  50.06       2731+               38.81   17  28  10   342+    3\n",
      "45             JE Root (ENG)  2012-2024      136   249        20  11447                254  49.98       20179               56.72   30  60  12   1248   43\n",
      "46     DPMD Jayawardene (SL)  1997-2014      149   252        15  11814                374  49.84       22959               51.45   34  50  15   1387   61\n",
      "47  Inzamam-ul-Haq (ICC/PAK)  1992-2007      120   200        22   8830                329  49.60       16345               54.02   25  46  15   1105   48\n",
      "48          FMM Worrell (WI)  1948-1963       51    87         9   3860                261  49.48        488+               40.16    9  22  11   240+   11\n",
      "49             CP Mead (ENG)  1911-1928       17    26         2   1185               182*  49.37        619+               30.04    4   3   3    38+    0\n",
      "50        V Sehwag (ICC/IND)  2001-2013      104   180         6   8586                319  49.34       10441               82.23   23  32  16   1233   91\n",
      "51            Abid Ali (PAK)  2019-2021       16    26         2   1180               215*  49.16        2445               48.26    4   3   2    148    5\n",
      "52             V Kohli (IND)  2011-2024      113   191        11   8848               254*  49.15       15924               55.56   29  30  14    991   26\n",
      "53           MJ Clarke (AUS)  2004-2015      115   198        22   8643               329*  49.10       15456               55.92   28  27   9    978   39\n",
      "54             KC Bland (SA)  1961-1966       21    39         5   1669               144*  49.08        885+               37.74    3   9   2   123+   20\n",
      "55           B Mitchell (SA)  1929-1949       42    80         9   3471               189*  48.88        158+               29.11    8  21   3    41+    1\n",
      "56      Hon.FS Jackson (ENG)  1893-1905       20    33         4   1415               144*  48.79         NaN                   -    5   6   3    51+    0\n",
      "57       TT Samaraweera (SL)  2001-2013       81   132        20   5462                231  48.76       11641               46.92   14  30  11    633    7\n",
      "58           RN Harvey (AUS)  1948-1963       79   137        10   6149                205  48.41       1799+               43.74   21  24   7   427+    1\n",
      "59          KD Walters (AUS)  1965-1981       74   125        14   5357                250  48.26       8662+               49.16   15  33   4   525+   23\n",
      "60         GC Smith (ICC/SA)  2002-2014      117   205        13   9265                277  48.25       15525               59.67   27  38  11   1165   24\n",
      "61         WH Ponsford (AUS)  1924-1934       29    48         4   2122                266  48.22       3118+               44.77    7   6   1   119+    0\n",
      "62           SJ McCabe (AUS)  1930-1938       39    62         5   2748                232  48.21       3217+               60.02    6  13   4   241+   5+\n",
      "63          DR Jardine (ENG)  1928-1934       22    33         6   1296                127  48.00       2110+               25.59    1  10   2    53+    0\n"
     ]
    }
   ],
   "source": [
    "print(df.to_string())   # Displays more information of the  whole dataset"
   ]
  },
  {
   "cell_type": "code",
   "execution_count": 16,
   "metadata": {},
   "outputs": [
    {
     "name": "stdout",
     "output_type": "stream",
     "text": [
      "                      Player       Span  Matches  Inns  Not_outs   Runs Highest_Inns_score    Ave Balls_faced Batting_strike_rate  100  50   0     4s   6s\n",
      "0           DG Bradman (AUS)  1928-1948       52    80        10   6996                334  99.94       9800+                58.6   29  13   7   626+    6\n",
      "1             HC Brook (ENG)  2022-2023       12    20         1   1181                186  62.15        1287               91.76    4   7   1    141   23\n",
      "2             AC Voges (AUS)  2015-2016       20    31         7   1485               269*  61.87        2667               55.68    5   4   2    186    5\n",
      "3            RG Pollock (SA)  1963-1970       23    41         4   2256                274  60.97       1707+               54.48    7  11   1   246+   11\n",
      "4            GA Headley (WI)  1930-1954       22    40         4   2190               270*  60.83        416+                  56   10   5   2   104+    1\n",
      "5            GA Headley (WI)  1930-1954       22    40         4   2190               270*  60.83        416+                  56   10   5   2   104+    1\n",
      "6          H Sutcliffe (ENG)  1924-1935       54    84         9   4555                194  60.73       6558+               34.59   16  23   2   202+    6\n",
      "7            E Paynter (ENG)  1931-1939       20    31         5   1540                243  59.23           0               45.88    4   7   3   125+    4\n",
      "8        KF Barrington (ENG)  1955-1968       82   131        15   6806                256  58.67       4957+               42.42   20  35   5   591+   27\n",
      "9             ED Weekes (WI)  1948-1958       48    81         5   4455                207  58.61           0                   -   15  19   6   258+    2\n",
      "10          WR Hammond (ENG)  1927-1947       85   140        16   7249               336*  58.45       7491+               38.07   22  24   4   419+   27\n",
      "11           SPD Smith (AUS)  2010-2024      107   191        25   9634                239  58.03       17977               53.59   32  41   9   1056   54\n",
      "12            GS Sobers (WI)  1954-1974       93   160        21   8032               365*  57.78       4063+               53.58   26  30  12   593+  32+\n",
      "13        KC Sangakkara (SL)  2000-2015      134   233        17  12400                319  57.40       22882               54.19   38  52  11   1491   51\n",
      "14            JB Hobbs (ENG)  1908-1930       61   102         7   5410                211  56.94       5363+               46.22   15  28   4   276+    8\n",
      "15           CL Walcott (WI)  1948-1960       44    74         7   3798                220  56.68           0                   -   15  14   1   107+   11\n",
      "16            L Hutton (ENG)  1937-1955       79   138        15   6971                364  56.67       2844+               39.34   19  33   5   358+    7\n",
      "17        JH Kallis (ICC/SA)  1995-2013      166   280        40  13289                224  55.37       28903               45.97   45  58  16   1488   97\n",
      "18        GE Tyldesley (ENG)  1921-1929       14    20         2    990                122  55.00        178+               29.21    3   6   2    37+    2\n",
      "19        KS Williamson (NZ)  2010-2023       96   168        16   8263                251  54.36       16052               51.47   29  33  10    914   21\n",
      "20             CA Davis (WI)  1968-1973       15    29         5   1301                183  54.20        665+               35.48    4   4   1    65+    1\n",
      "21           VG Kambli (IND)  1993-1995       17    21         1   1084                227  54.20        1823               59.46    4   3   3    124    6\n",
      "22         GS Chappell (AUS)  1970-1984       87   151        19   7110               247*  53.86      13079+               51.53   24  31  12    755   16\n",
      "23         GS Chappell (AUS)  1970-1984       87   151        19   7110               247*  53.86      13079+               51.53   24  31  12    755   16\n",
      "24            AD Nourse (SA)  1935-1951       34    62         7   2960                231  53.81        108+               63.88    9  14   3   115+    6\n",
      "25        SR Tendulkar (IND)  1989-2013      200   329        33  15921               248*  53.78      29437+               54.04   51  68  14  2058+   69\n",
      "26          DJ Mitchell (NZ)  2019-2023       20    31         4   1452                190  53.77        2644               54.91    5   9   1    144   27\n",
      "27          BC Lara (ICC/WI)  1990-2006      131   232         6  11953               400*  52.88       19753               60.51   34  48  17   1559   88\n",
      "28       Javed Miandad (PAK)  1976-1993      124   189        21   8832               280*  52.57      15164+               45.99   23  43   6   788+   48\n",
      "29        R Dravid (ICC/IND)  1996-2012      164   286        32  13288                270  52.31       31258               42.51   36  63   8   1654   21\n",
      "30     Mohammad Yousuf (PAK)  1998-2010       90   156        12   7530                223  52.29       14372               52.39   24  33  11    957   51\n",
      "31         Younis Khan (PAK)  2000-2017      118   213        19  10099                313  52.05       19375               52.12   34  33  19   1082   70\n",
      "32          RT Ponting (AUS)  1995-2012      168   287        29  13378                257  51.85       22782               58.72   41  62  17   1509   73\n",
      "33             J Ryder (AUS)  1920-1929       20    32         5   1394               201*  51.62       2035+               44.86    3   9   1   102+    3\n",
      "34            A Flower (ZIM)  1992-2002       63   112        19   4794               232*  51.54       10636               45.07   12  27   5    543   20\n",
      "35          MEK Hussey (AUS)  2005-2013       79   137        16   6235                195  51.52       12436               50.13   19  29  12    685   39\n",
      "36        S Chanderpaul (WI)  1994-2015      164   280        49  11867               203*  51.37       27395               43.31   30  66  15   1285   36\n",
      "37         SM Gavaskar (IND)  1971-1987      125   214        16  10122               236*  51.12      14184+               43.35   34  45  12   908+   26\n",
      "38            SR Waugh (AUS)  1985-2004      168   260        46  10927                200  51.06       22461               48.64   32  50  22   1175   20\n",
      "39       M Labuschagne (AUS)  2018-2024       48    86         7   4015                215  50.82        7614               52.73   11  19   4    450   12\n",
      "40           ML Hayden (AUS)  1994-2009      103   184        14   8625                380  50.73       14349                60.1   30  29  14   1049   82\n",
      "41       AB de Villiers (SA)  2004-2018      114   191        18   8765               278*  50.66       16077               54.51   22  46   8   1024   64\n",
      "42           AR Border (AUS)  1978-1994      156   265        44  11174                205  50.56      27002+               41.09   27  63  11   1161   28\n",
      "43         IVA Richards (WI)  1974-1991      121   182        12   8540                291  50.23       9613+               69.77   24  45  10   952+   84\n",
      "44         DCS Compton (ENG)  1937-1957       78   131        15   5807                278  50.06       2731+               38.81   17  28  10   342+    3\n",
      "45             JE Root (ENG)  2012-2024      136   249        20  11447                254  49.98       20179               56.72   30  60  12   1248   43\n",
      "46     DPMD Jayawardene (SL)  1997-2014      149   252        15  11814                374  49.84       22959               51.45   34  50  15   1387   61\n",
      "47  Inzamam-ul-Haq (ICC/PAK)  1992-2007      120   200        22   8830                329  49.60       16345               54.02   25  46  15   1105   48\n",
      "48          FMM Worrell (WI)  1948-1963       51    87         9   3860                261  49.48        488+               40.16    9  22  11   240+   11\n",
      "49             CP Mead (ENG)  1911-1928       17    26         2   1185               182*  49.37        619+               30.04    4   3   3    38+    0\n",
      "50        V Sehwag (ICC/IND)  2001-2013      104   180         6   8586                319  49.34       10441               82.23   23  32  16   1233   91\n",
      "51            Abid Ali (PAK)  2019-2021       16    26         2   1180               215*  49.16        2445               48.26    4   3   2    148    5\n",
      "52             V Kohli (IND)  2011-2024      113   191        11   8848               254*  49.15       15924               55.56   29  30  14    991   26\n",
      "53           MJ Clarke (AUS)  2004-2015      115   198        22   8643               329*  49.10       15456               55.92   28  27   9    978   39\n",
      "54             KC Bland (SA)  1961-1966       21    39         5   1669               144*  49.08        885+               37.74    3   9   2   123+   20\n",
      "55           B Mitchell (SA)  1929-1949       42    80         9   3471               189*  48.88        158+               29.11    8  21   3    41+    1\n",
      "56      Hon.FS Jackson (ENG)  1893-1905       20    33         4   1415               144*  48.79           0                   -    5   6   3    51+    0\n",
      "57       TT Samaraweera (SL)  2001-2013       81   132        20   5462                231  48.76       11641               46.92   14  30  11    633    7\n",
      "58           RN Harvey (AUS)  1948-1963       79   137        10   6149                205  48.41       1799+               43.74   21  24   7   427+    1\n",
      "59          KD Walters (AUS)  1965-1981       74   125        14   5357                250  48.26       8662+               49.16   15  33   4   525+   23\n",
      "60         GC Smith (ICC/SA)  2002-2014      117   205        13   9265                277  48.25       15525               59.67   27  38  11   1165   24\n",
      "61         WH Ponsford (AUS)  1924-1934       29    48         4   2122                266  48.22       3118+               44.77    7   6   1   119+    0\n",
      "62           SJ McCabe (AUS)  1930-1938       39    62         5   2748                232  48.21       3217+               60.02    6  13   4   241+   5+\n",
      "63          DR Jardine (ENG)  1928-1934       22    33         6   1296                127  48.00       2110+               25.59    1  10   2    53+    0\n"
     ]
    }
   ],
   "source": [
    "for i in df.index:\n",
    "    if df.loc[i,'Balls_faced'] == \"NaN\":\n",
    "        df.loc[i,'Balls_faced'] =0\n",
    "print(df.to_string())"
   ]
  },
  {
   "cell_type": "code",
   "execution_count": 17,
   "metadata": {},
   "outputs": [
    {
     "data": {
      "text/html": [
       "<div>\n",
       "<style scoped>\n",
       "    .dataframe tbody tr th:only-of-type {\n",
       "        vertical-align: middle;\n",
       "    }\n",
       "\n",
       "    .dataframe tbody tr th {\n",
       "        vertical-align: top;\n",
       "    }\n",
       "\n",
       "    .dataframe thead th {\n",
       "        text-align: right;\n",
       "    }\n",
       "</style>\n",
       "<table border=\"1\" class=\"dataframe\">\n",
       "  <thead>\n",
       "    <tr style=\"text-align: right;\">\n",
       "      <th></th>\n",
       "      <th>Player</th>\n",
       "      <th>Span</th>\n",
       "      <th>Matches</th>\n",
       "      <th>Inns</th>\n",
       "      <th>Not_outs</th>\n",
       "      <th>Runs</th>\n",
       "      <th>Highest_Inns_score</th>\n",
       "      <th>Ave</th>\n",
       "      <th>Balls_faced</th>\n",
       "      <th>Batting_strike_rate</th>\n",
       "      <th>100</th>\n",
       "      <th>50</th>\n",
       "      <th>0</th>\n",
       "      <th>4s</th>\n",
       "      <th>6s</th>\n",
       "    </tr>\n",
       "  </thead>\n",
       "  <tbody>\n",
       "    <tr>\n",
       "      <th>9</th>\n",
       "      <td>ED Weekes (WI)</td>\n",
       "      <td>1948-1958</td>\n",
       "      <td>48</td>\n",
       "      <td>81</td>\n",
       "      <td>5</td>\n",
       "      <td>4455</td>\n",
       "      <td>207</td>\n",
       "      <td>58.61</td>\n",
       "      <td>0</td>\n",
       "      <td>-</td>\n",
       "      <td>15</td>\n",
       "      <td>19</td>\n",
       "      <td>6</td>\n",
       "      <td>258+</td>\n",
       "      <td>2</td>\n",
       "    </tr>\n",
       "  </tbody>\n",
       "</table>\n",
       "</div>"
      ],
      "text/plain": [
       "           Player       Span  Matches  Inns  Not_outs  Runs  \\\n",
       "9  ED Weekes (WI)  1948-1958       48    81         5  4455   \n",
       "\n",
       "  Highest_Inns_score    Ave Balls_faced Batting_strike_rate  100  50  0    4s  \\\n",
       "9                207  58.61           0                   -   15  19  6  258+   \n",
       "\n",
       "  6s  \n",
       "9  2  "
      ]
     },
     "execution_count": 17,
     "metadata": {},
     "output_type": "execute_result"
    }
   ],
   "source": [
    "df[df['Player'] == 'ED Weekes (WI)'] # displays the info_row of the players name"
   ]
  },
  {
   "cell_type": "code",
   "execution_count": 18,
   "metadata": {},
   "outputs": [
    {
     "data": {
      "text/plain": [
       "0     False\n",
       "1     False\n",
       "2     False\n",
       "3     False\n",
       "4     False\n",
       "      ...  \n",
       "59    False\n",
       "60    False\n",
       "61    False\n",
       "62    False\n",
       "63    False\n",
       "Length: 64, dtype: bool"
      ]
     },
     "execution_count": 18,
     "metadata": {},
     "output_type": "execute_result"
    }
   ],
   "source": [
    "df.duplicated()"
   ]
  },
  {
   "cell_type": "code",
   "execution_count": 19,
   "metadata": {},
   "outputs": [
    {
     "data": {
      "text/html": [
       "<div>\n",
       "<style scoped>\n",
       "    .dataframe tbody tr th:only-of-type {\n",
       "        vertical-align: middle;\n",
       "    }\n",
       "\n",
       "    .dataframe tbody tr th {\n",
       "        vertical-align: top;\n",
       "    }\n",
       "\n",
       "    .dataframe thead th {\n",
       "        text-align: right;\n",
       "    }\n",
       "</style>\n",
       "<table border=\"1\" class=\"dataframe\">\n",
       "  <thead>\n",
       "    <tr style=\"text-align: right;\">\n",
       "      <th></th>\n",
       "      <th>Player</th>\n",
       "      <th>Span</th>\n",
       "      <th>Matches</th>\n",
       "      <th>Inns</th>\n",
       "      <th>Not_outs</th>\n",
       "      <th>Runs</th>\n",
       "      <th>Highest_Inns_score</th>\n",
       "      <th>Ave</th>\n",
       "      <th>Balls_faced</th>\n",
       "      <th>Batting_strike_rate</th>\n",
       "      <th>100</th>\n",
       "      <th>50</th>\n",
       "      <th>0</th>\n",
       "      <th>4s</th>\n",
       "      <th>6s</th>\n",
       "    </tr>\n",
       "  </thead>\n",
       "  <tbody>\n",
       "    <tr>\n",
       "      <th>5</th>\n",
       "      <td>GA Headley (WI)</td>\n",
       "      <td>1930-1954</td>\n",
       "      <td>22</td>\n",
       "      <td>40</td>\n",
       "      <td>4</td>\n",
       "      <td>2190</td>\n",
       "      <td>270*</td>\n",
       "      <td>60.83</td>\n",
       "      <td>416+</td>\n",
       "      <td>56</td>\n",
       "      <td>10</td>\n",
       "      <td>5</td>\n",
       "      <td>2</td>\n",
       "      <td>104+</td>\n",
       "      <td>1</td>\n",
       "    </tr>\n",
       "    <tr>\n",
       "      <th>23</th>\n",
       "      <td>GS Chappell (AUS)</td>\n",
       "      <td>1970-1984</td>\n",
       "      <td>87</td>\n",
       "      <td>151</td>\n",
       "      <td>19</td>\n",
       "      <td>7110</td>\n",
       "      <td>247*</td>\n",
       "      <td>53.86</td>\n",
       "      <td>13079+</td>\n",
       "      <td>51.53</td>\n",
       "      <td>24</td>\n",
       "      <td>31</td>\n",
       "      <td>12</td>\n",
       "      <td>755</td>\n",
       "      <td>16</td>\n",
       "    </tr>\n",
       "  </tbody>\n",
       "</table>\n",
       "</div>"
      ],
      "text/plain": [
       "               Player       Span  Matches  Inns  Not_outs  Runs  \\\n",
       "5     GA Headley (WI)  1930-1954       22    40         4  2190   \n",
       "23  GS Chappell (AUS)  1970-1984       87   151        19  7110   \n",
       "\n",
       "   Highest_Inns_score    Ave Balls_faced Batting_strike_rate  100  50   0  \\\n",
       "5                270*  60.83        416+                  56   10   5   2   \n",
       "23               247*  53.86      13079+               51.53   24  31  12   \n",
       "\n",
       "      4s  6s  \n",
       "5   104+   1  \n",
       "23   755  16  "
      ]
     },
     "execution_count": 19,
     "metadata": {},
     "output_type": "execute_result"
    }
   ],
   "source": [
    "df[(df['Player'].duplicated() == 1)] # Displays the duplicate rows of the players"
   ]
  },
  {
   "cell_type": "code",
   "execution_count": 20,
   "metadata": {},
   "outputs": [
    {
     "data": {
      "text/html": [
       "<div>\n",
       "<style scoped>\n",
       "    .dataframe tbody tr th:only-of-type {\n",
       "        vertical-align: middle;\n",
       "    }\n",
       "\n",
       "    .dataframe tbody tr th {\n",
       "        vertical-align: top;\n",
       "    }\n",
       "\n",
       "    .dataframe thead th {\n",
       "        text-align: right;\n",
       "    }\n",
       "</style>\n",
       "<table border=\"1\" class=\"dataframe\">\n",
       "  <thead>\n",
       "    <tr style=\"text-align: right;\">\n",
       "      <th></th>\n",
       "      <th>Player</th>\n",
       "      <th>Span</th>\n",
       "      <th>Matches</th>\n",
       "      <th>Inns</th>\n",
       "      <th>Not_outs</th>\n",
       "      <th>Runs</th>\n",
       "      <th>Highest_Inns_score</th>\n",
       "      <th>Ave</th>\n",
       "      <th>Balls_faced</th>\n",
       "      <th>Batting_strike_rate</th>\n",
       "      <th>100</th>\n",
       "      <th>50</th>\n",
       "      <th>0</th>\n",
       "      <th>4s</th>\n",
       "      <th>6s</th>\n",
       "    </tr>\n",
       "  </thead>\n",
       "  <tbody>\n",
       "    <tr>\n",
       "      <th>0</th>\n",
       "      <td>DG Bradman (AUS)</td>\n",
       "      <td>1928-1948</td>\n",
       "      <td>52</td>\n",
       "      <td>80</td>\n",
       "      <td>10</td>\n",
       "      <td>6996</td>\n",
       "      <td>334</td>\n",
       "      <td>99.94</td>\n",
       "      <td>9800+</td>\n",
       "      <td>58.6</td>\n",
       "      <td>29</td>\n",
       "      <td>13</td>\n",
       "      <td>7</td>\n",
       "      <td>626+</td>\n",
       "      <td>6</td>\n",
       "    </tr>\n",
       "    <tr>\n",
       "      <th>1</th>\n",
       "      <td>HC Brook (ENG)</td>\n",
       "      <td>2022-2023</td>\n",
       "      <td>12</td>\n",
       "      <td>20</td>\n",
       "      <td>1</td>\n",
       "      <td>1181</td>\n",
       "      <td>186</td>\n",
       "      <td>62.15</td>\n",
       "      <td>1287</td>\n",
       "      <td>91.76</td>\n",
       "      <td>4</td>\n",
       "      <td>7</td>\n",
       "      <td>1</td>\n",
       "      <td>141</td>\n",
       "      <td>23</td>\n",
       "    </tr>\n",
       "    <tr>\n",
       "      <th>2</th>\n",
       "      <td>AC Voges (AUS)</td>\n",
       "      <td>2015-2016</td>\n",
       "      <td>20</td>\n",
       "      <td>31</td>\n",
       "      <td>7</td>\n",
       "      <td>1485</td>\n",
       "      <td>269*</td>\n",
       "      <td>61.87</td>\n",
       "      <td>2667</td>\n",
       "      <td>55.68</td>\n",
       "      <td>5</td>\n",
       "      <td>4</td>\n",
       "      <td>2</td>\n",
       "      <td>186</td>\n",
       "      <td>5</td>\n",
       "    </tr>\n",
       "    <tr>\n",
       "      <th>3</th>\n",
       "      <td>RG Pollock (SA)</td>\n",
       "      <td>1963-1970</td>\n",
       "      <td>23</td>\n",
       "      <td>41</td>\n",
       "      <td>4</td>\n",
       "      <td>2256</td>\n",
       "      <td>274</td>\n",
       "      <td>60.97</td>\n",
       "      <td>1707+</td>\n",
       "      <td>54.48</td>\n",
       "      <td>7</td>\n",
       "      <td>11</td>\n",
       "      <td>1</td>\n",
       "      <td>246+</td>\n",
       "      <td>11</td>\n",
       "    </tr>\n",
       "    <tr>\n",
       "      <th>4</th>\n",
       "      <td>GA Headley (WI)</td>\n",
       "      <td>1930-1954</td>\n",
       "      <td>22</td>\n",
       "      <td>40</td>\n",
       "      <td>4</td>\n",
       "      <td>2190</td>\n",
       "      <td>270*</td>\n",
       "      <td>60.83</td>\n",
       "      <td>416+</td>\n",
       "      <td>56</td>\n",
       "      <td>10</td>\n",
       "      <td>5</td>\n",
       "      <td>2</td>\n",
       "      <td>104+</td>\n",
       "      <td>1</td>\n",
       "    </tr>\n",
       "    <tr>\n",
       "      <th>...</th>\n",
       "      <td>...</td>\n",
       "      <td>...</td>\n",
       "      <td>...</td>\n",
       "      <td>...</td>\n",
       "      <td>...</td>\n",
       "      <td>...</td>\n",
       "      <td>...</td>\n",
       "      <td>...</td>\n",
       "      <td>...</td>\n",
       "      <td>...</td>\n",
       "      <td>...</td>\n",
       "      <td>...</td>\n",
       "      <td>...</td>\n",
       "      <td>...</td>\n",
       "      <td>...</td>\n",
       "    </tr>\n",
       "    <tr>\n",
       "      <th>59</th>\n",
       "      <td>KD Walters (AUS)</td>\n",
       "      <td>1965-1981</td>\n",
       "      <td>74</td>\n",
       "      <td>125</td>\n",
       "      <td>14</td>\n",
       "      <td>5357</td>\n",
       "      <td>250</td>\n",
       "      <td>48.26</td>\n",
       "      <td>8662+</td>\n",
       "      <td>49.16</td>\n",
       "      <td>15</td>\n",
       "      <td>33</td>\n",
       "      <td>4</td>\n",
       "      <td>525+</td>\n",
       "      <td>23</td>\n",
       "    </tr>\n",
       "    <tr>\n",
       "      <th>60</th>\n",
       "      <td>GC Smith (ICC/SA)</td>\n",
       "      <td>2002-2014</td>\n",
       "      <td>117</td>\n",
       "      <td>205</td>\n",
       "      <td>13</td>\n",
       "      <td>9265</td>\n",
       "      <td>277</td>\n",
       "      <td>48.25</td>\n",
       "      <td>15525</td>\n",
       "      <td>59.67</td>\n",
       "      <td>27</td>\n",
       "      <td>38</td>\n",
       "      <td>11</td>\n",
       "      <td>1165</td>\n",
       "      <td>24</td>\n",
       "    </tr>\n",
       "    <tr>\n",
       "      <th>61</th>\n",
       "      <td>WH Ponsford (AUS)</td>\n",
       "      <td>1924-1934</td>\n",
       "      <td>29</td>\n",
       "      <td>48</td>\n",
       "      <td>4</td>\n",
       "      <td>2122</td>\n",
       "      <td>266</td>\n",
       "      <td>48.22</td>\n",
       "      <td>3118+</td>\n",
       "      <td>44.77</td>\n",
       "      <td>7</td>\n",
       "      <td>6</td>\n",
       "      <td>1</td>\n",
       "      <td>119+</td>\n",
       "      <td>0</td>\n",
       "    </tr>\n",
       "    <tr>\n",
       "      <th>62</th>\n",
       "      <td>SJ McCabe (AUS)</td>\n",
       "      <td>1930-1938</td>\n",
       "      <td>39</td>\n",
       "      <td>62</td>\n",
       "      <td>5</td>\n",
       "      <td>2748</td>\n",
       "      <td>232</td>\n",
       "      <td>48.21</td>\n",
       "      <td>3217+</td>\n",
       "      <td>60.02</td>\n",
       "      <td>6</td>\n",
       "      <td>13</td>\n",
       "      <td>4</td>\n",
       "      <td>241+</td>\n",
       "      <td>5+</td>\n",
       "    </tr>\n",
       "    <tr>\n",
       "      <th>63</th>\n",
       "      <td>DR Jardine (ENG)</td>\n",
       "      <td>1928-1934</td>\n",
       "      <td>22</td>\n",
       "      <td>33</td>\n",
       "      <td>6</td>\n",
       "      <td>1296</td>\n",
       "      <td>127</td>\n",
       "      <td>48.00</td>\n",
       "      <td>2110+</td>\n",
       "      <td>25.59</td>\n",
       "      <td>1</td>\n",
       "      <td>10</td>\n",
       "      <td>2</td>\n",
       "      <td>53+</td>\n",
       "      <td>0</td>\n",
       "    </tr>\n",
       "  </tbody>\n",
       "</table>\n",
       "<p>62 rows × 15 columns</p>\n",
       "</div>"
      ],
      "text/plain": [
       "               Player       Span  Matches  Inns  Not_outs  Runs  \\\n",
       "0    DG Bradman (AUS)  1928-1948       52    80        10  6996   \n",
       "1      HC Brook (ENG)  2022-2023       12    20         1  1181   \n",
       "2      AC Voges (AUS)  2015-2016       20    31         7  1485   \n",
       "3     RG Pollock (SA)  1963-1970       23    41         4  2256   \n",
       "4     GA Headley (WI)  1930-1954       22    40         4  2190   \n",
       "..                ...        ...      ...   ...       ...   ...   \n",
       "59   KD Walters (AUS)  1965-1981       74   125        14  5357   \n",
       "60  GC Smith (ICC/SA)  2002-2014      117   205        13  9265   \n",
       "61  WH Ponsford (AUS)  1924-1934       29    48         4  2122   \n",
       "62    SJ McCabe (AUS)  1930-1938       39    62         5  2748   \n",
       "63   DR Jardine (ENG)  1928-1934       22    33         6  1296   \n",
       "\n",
       "   Highest_Inns_score    Ave Balls_faced Batting_strike_rate  100  50   0  \\\n",
       "0                 334  99.94       9800+                58.6   29  13   7   \n",
       "1                 186  62.15        1287               91.76    4   7   1   \n",
       "2                269*  61.87        2667               55.68    5   4   2   \n",
       "3                 274  60.97       1707+               54.48    7  11   1   \n",
       "4                270*  60.83        416+                  56   10   5   2   \n",
       "..                ...    ...         ...                 ...  ...  ..  ..   \n",
       "59                250  48.26       8662+               49.16   15  33   4   \n",
       "60                277  48.25       15525               59.67   27  38  11   \n",
       "61                266  48.22       3118+               44.77    7   6   1   \n",
       "62                232  48.21       3217+               60.02    6  13   4   \n",
       "63                127  48.00       2110+               25.59    1  10   2   \n",
       "\n",
       "      4s  6s  \n",
       "0   626+   6  \n",
       "1    141  23  \n",
       "2    186   5  \n",
       "3   246+  11  \n",
       "4   104+   1  \n",
       "..   ...  ..  \n",
       "59  525+  23  \n",
       "60  1165  24  \n",
       "61  119+   0  \n",
       "62  241+  5+  \n",
       "63   53+   0  \n",
       "\n",
       "[62 rows x 15 columns]"
      ]
     },
     "execution_count": 20,
     "metadata": {},
     "output_type": "execute_result"
    }
   ],
   "source": [
    "df.drop_duplicates() # delete the duplicate columns"
   ]
  },
  {
   "cell_type": "code",
   "execution_count": 21,
   "metadata": {},
   "outputs": [
    {
     "data": {
      "text/plain": [
       "Player                  object\n",
       "Span                    object\n",
       "Matches                  int64\n",
       "Inns                     int64\n",
       "Not_outs                 int64\n",
       "Runs                     int64\n",
       "Highest_Inns_score      object\n",
       "Ave                    float64\n",
       "Balls_faced             object\n",
       "Batting_strike_rate     object\n",
       "100                      int64\n",
       "50                       int64\n",
       "0                        int64\n",
       "4s                      object\n",
       "6s                      object\n",
       "dtype: object"
      ]
     },
     "execution_count": 21,
     "metadata": {},
     "output_type": "execute_result"
    }
   ],
   "source": [
    "df.shape   #total number of rows and columns\n",
    "df.index    # specifies the starting index, ending index+1, increasing step\n",
    "df.columns  # displays the names of the columns\n",
    "df.dtypes   #displays the datatype of the of the columns\n",
    "\n"
   ]
  },
  {
   "cell_type": "code",
   "execution_count": 22,
   "metadata": {},
   "outputs": [
    {
     "data": {
      "text/plain": [
       "array([ 6996,  1181,  1485,  2256,  2190,  4555,  1540,  6806,  4455,\n",
       "        7249,  9634,  8032, 12400,  5410,  3798,  6971, 13289,   990,\n",
       "        8263,  1301,  1084,  7110,  2960, 15921,  1452, 11953,  8832,\n",
       "       13288,  7530, 10099, 13378,  1394,  4794,  6235, 11867, 10122,\n",
       "       10927,  4015,  8625,  8765, 11174,  8540,  5807, 11447, 11814,\n",
       "        8830,  3860,  1185,  8586,  1180,  8848,  8643,  1669,  3471,\n",
       "        1415,  5462,  6149,  5357,  9265,  2122,  2748,  1296],\n",
       "      dtype=int64)"
      ]
     },
     "execution_count": 22,
     "metadata": {},
     "output_type": "execute_result"
    }
   ],
   "source": [
    "df['Runs'].unique() # Finding the unique values in the dataset"
   ]
  },
  {
   "cell_type": "code",
   "execution_count": 23,
   "metadata": {},
   "outputs": [],
   "source": [
    "df_2 = df.loc[(df['Runs'] >= 8000)]"
   ]
  },
  {
   "cell_type": "code",
   "execution_count": 24,
   "metadata": {},
   "outputs": [
    {
     "name": "stdout",
     "output_type": "stream",
     "text": [
      "                      Player       Span  Matches  Inns  Not_outs   Runs Highest_Inns_score    Ave Balls_faced Batting_strike_rate  100  50   0     4s   6s\n",
      "11           SPD Smith (AUS)  2010-2024      107   191        25   9634                239  58.03       17977               53.59   32  41   9   1056   54\n",
      "12            GS Sobers (WI)  1954-1974       93   160        21   8032               365*  57.78       4063+               53.58   26  30  12   593+  32+\n",
      "13        KC Sangakkara (SL)  2000-2015      134   233        17  12400                319  57.40       22882               54.19   38  52  11   1491   51\n",
      "17        JH Kallis (ICC/SA)  1995-2013      166   280        40  13289                224  55.37       28903               45.97   45  58  16   1488   97\n",
      "19        KS Williamson (NZ)  2010-2023       96   168        16   8263                251  54.36       16052               51.47   29  33  10    914   21\n",
      "25        SR Tendulkar (IND)  1989-2013      200   329        33  15921               248*  53.78      29437+               54.04   51  68  14  2058+   69\n",
      "27          BC Lara (ICC/WI)  1990-2006      131   232         6  11953               400*  52.88       19753               60.51   34  48  17   1559   88\n",
      "28       Javed Miandad (PAK)  1976-1993      124   189        21   8832               280*  52.57      15164+               45.99   23  43   6   788+   48\n",
      "29        R Dravid (ICC/IND)  1996-2012      164   286        32  13288                270  52.31       31258               42.51   36  63   8   1654   21\n",
      "31         Younis Khan (PAK)  2000-2017      118   213        19  10099                313  52.05       19375               52.12   34  33  19   1082   70\n",
      "32          RT Ponting (AUS)  1995-2012      168   287        29  13378                257  51.85       22782               58.72   41  62  17   1509   73\n",
      "36        S Chanderpaul (WI)  1994-2015      164   280        49  11867               203*  51.37       27395               43.31   30  66  15   1285   36\n",
      "37         SM Gavaskar (IND)  1971-1987      125   214        16  10122               236*  51.12      14184+               43.35   34  45  12   908+   26\n",
      "38            SR Waugh (AUS)  1985-2004      168   260        46  10927                200  51.06       22461               48.64   32  50  22   1175   20\n",
      "40           ML Hayden (AUS)  1994-2009      103   184        14   8625                380  50.73       14349                60.1   30  29  14   1049   82\n",
      "41       AB de Villiers (SA)  2004-2018      114   191        18   8765               278*  50.66       16077               54.51   22  46   8   1024   64\n",
      "42           AR Border (AUS)  1978-1994      156   265        44  11174                205  50.56      27002+               41.09   27  63  11   1161   28\n",
      "43         IVA Richards (WI)  1974-1991      121   182        12   8540                291  50.23       9613+               69.77   24  45  10   952+   84\n",
      "45             JE Root (ENG)  2012-2024      136   249        20  11447                254  49.98       20179               56.72   30  60  12   1248   43\n",
      "46     DPMD Jayawardene (SL)  1997-2014      149   252        15  11814                374  49.84       22959               51.45   34  50  15   1387   61\n",
      "47  Inzamam-ul-Haq (ICC/PAK)  1992-2007      120   200        22   8830                329  49.60       16345               54.02   25  46  15   1105   48\n",
      "50        V Sehwag (ICC/IND)  2001-2013      104   180         6   8586                319  49.34       10441               82.23   23  32  16   1233   91\n",
      "52             V Kohli (IND)  2011-2024      113   191        11   8848               254*  49.15       15924               55.56   29  30  14    991   26\n",
      "53           MJ Clarke (AUS)  2004-2015      115   198        22   8643               329*  49.10       15456               55.92   28  27   9    978   39\n",
      "60         GC Smith (ICC/SA)  2002-2014      117   205        13   9265                277  48.25       15525               59.67   27  38  11   1165   24\n"
     ]
    }
   ],
   "source": [
    "print(df_2.to_string())"
   ]
  },
  {
   "cell_type": "code",
   "execution_count": 25,
   "metadata": {},
   "outputs": [
    {
     "data": {
      "application/vnd.plotly.v1+json": {
       "config": {
        "linkText": "Export to plot.ly",
        "plotlyServerURL": "https://plot.ly",
        "showLink": false
       },
       "data": [
        {
         "name": "Four Boundaries",
         "type": "scatter",
         "x": [
          "2010-2024",
          "1954-1974",
          "2000-2015",
          "1995-2013",
          "2010-2023",
          "1989-2013",
          "1990-2006",
          "1976-1993",
          "1996-2012",
          "2000-2017",
          "1995-2012",
          "1994-2015",
          "1971-1987",
          "1985-2004",
          "1994-2009",
          "2004-2018",
          "1978-1994",
          "1974-1991",
          "2012-2024",
          "1997-2014",
          "1992-2007",
          "2001-2013",
          "2011-2024",
          "2004-2015",
          "2002-2014"
         ],
         "y": [
          "1056",
          "593+",
          "1491",
          "1488",
          "914",
          "2058+",
          "1559",
          "788+",
          "1654",
          "1082",
          "1509",
          "1285",
          "908+",
          "1175",
          "1049",
          "1024",
          "1161",
          "952+",
          "1248",
          "1387",
          "1105",
          "1233",
          "991",
          "978",
          "1165"
         ]
        },
        {
         "name": "six Boundaries",
         "type": "scatter",
         "x": [
          "2010-2024",
          "1954-1974",
          "2000-2015",
          "1995-2013",
          "2010-2023",
          "1989-2013",
          "1990-2006",
          "1976-1993",
          "1996-2012",
          "2000-2017",
          "1995-2012",
          "1994-2015",
          "1971-1987",
          "1985-2004",
          "1994-2009",
          "2004-2018",
          "1978-1994",
          "1974-1991",
          "2012-2024",
          "1997-2014",
          "1992-2007",
          "2001-2013",
          "2011-2024",
          "2004-2015",
          "2002-2014"
         ],
         "y": [
          "54",
          "32+",
          "51",
          "97",
          "21",
          "69",
          "88",
          "48",
          "21",
          "70",
          "73",
          "36",
          "26",
          "20",
          "82",
          "64",
          "28",
          "84",
          "43",
          "61",
          "48",
          "91",
          "26",
          "39",
          "24"
         ]
        }
       ],
       "layout": {
        "template": {
         "data": {
          "bar": [
           {
            "error_x": {
             "color": "#2a3f5f"
            },
            "error_y": {
             "color": "#2a3f5f"
            },
            "marker": {
             "line": {
              "color": "#E5ECF6",
              "width": 0.5
             },
             "pattern": {
              "fillmode": "overlay",
              "size": 10,
              "solidity": 0.2
             }
            },
            "type": "bar"
           }
          ],
          "barpolar": [
           {
            "marker": {
             "line": {
              "color": "#E5ECF6",
              "width": 0.5
             },
             "pattern": {
              "fillmode": "overlay",
              "size": 10,
              "solidity": 0.2
             }
            },
            "type": "barpolar"
           }
          ],
          "carpet": [
           {
            "aaxis": {
             "endlinecolor": "#2a3f5f",
             "gridcolor": "white",
             "linecolor": "white",
             "minorgridcolor": "white",
             "startlinecolor": "#2a3f5f"
            },
            "baxis": {
             "endlinecolor": "#2a3f5f",
             "gridcolor": "white",
             "linecolor": "white",
             "minorgridcolor": "white",
             "startlinecolor": "#2a3f5f"
            },
            "type": "carpet"
           }
          ],
          "choropleth": [
           {
            "colorbar": {
             "outlinewidth": 0,
             "ticks": ""
            },
            "type": "choropleth"
           }
          ],
          "contour": [
           {
            "colorbar": {
             "outlinewidth": 0,
             "ticks": ""
            },
            "colorscale": [
             [
              0,
              "#0d0887"
             ],
             [
              0.1111111111111111,
              "#46039f"
             ],
             [
              0.2222222222222222,
              "#7201a8"
             ],
             [
              0.3333333333333333,
              "#9c179e"
             ],
             [
              0.4444444444444444,
              "#bd3786"
             ],
             [
              0.5555555555555556,
              "#d8576b"
             ],
             [
              0.6666666666666666,
              "#ed7953"
             ],
             [
              0.7777777777777778,
              "#fb9f3a"
             ],
             [
              0.8888888888888888,
              "#fdca26"
             ],
             [
              1,
              "#f0f921"
             ]
            ],
            "type": "contour"
           }
          ],
          "contourcarpet": [
           {
            "colorbar": {
             "outlinewidth": 0,
             "ticks": ""
            },
            "type": "contourcarpet"
           }
          ],
          "heatmap": [
           {
            "colorbar": {
             "outlinewidth": 0,
             "ticks": ""
            },
            "colorscale": [
             [
              0,
              "#0d0887"
             ],
             [
              0.1111111111111111,
              "#46039f"
             ],
             [
              0.2222222222222222,
              "#7201a8"
             ],
             [
              0.3333333333333333,
              "#9c179e"
             ],
             [
              0.4444444444444444,
              "#bd3786"
             ],
             [
              0.5555555555555556,
              "#d8576b"
             ],
             [
              0.6666666666666666,
              "#ed7953"
             ],
             [
              0.7777777777777778,
              "#fb9f3a"
             ],
             [
              0.8888888888888888,
              "#fdca26"
             ],
             [
              1,
              "#f0f921"
             ]
            ],
            "type": "heatmap"
           }
          ],
          "heatmapgl": [
           {
            "colorbar": {
             "outlinewidth": 0,
             "ticks": ""
            },
            "colorscale": [
             [
              0,
              "#0d0887"
             ],
             [
              0.1111111111111111,
              "#46039f"
             ],
             [
              0.2222222222222222,
              "#7201a8"
             ],
             [
              0.3333333333333333,
              "#9c179e"
             ],
             [
              0.4444444444444444,
              "#bd3786"
             ],
             [
              0.5555555555555556,
              "#d8576b"
             ],
             [
              0.6666666666666666,
              "#ed7953"
             ],
             [
              0.7777777777777778,
              "#fb9f3a"
             ],
             [
              0.8888888888888888,
              "#fdca26"
             ],
             [
              1,
              "#f0f921"
             ]
            ],
            "type": "heatmapgl"
           }
          ],
          "histogram": [
           {
            "marker": {
             "pattern": {
              "fillmode": "overlay",
              "size": 10,
              "solidity": 0.2
             }
            },
            "type": "histogram"
           }
          ],
          "histogram2d": [
           {
            "colorbar": {
             "outlinewidth": 0,
             "ticks": ""
            },
            "colorscale": [
             [
              0,
              "#0d0887"
             ],
             [
              0.1111111111111111,
              "#46039f"
             ],
             [
              0.2222222222222222,
              "#7201a8"
             ],
             [
              0.3333333333333333,
              "#9c179e"
             ],
             [
              0.4444444444444444,
              "#bd3786"
             ],
             [
              0.5555555555555556,
              "#d8576b"
             ],
             [
              0.6666666666666666,
              "#ed7953"
             ],
             [
              0.7777777777777778,
              "#fb9f3a"
             ],
             [
              0.8888888888888888,
              "#fdca26"
             ],
             [
              1,
              "#f0f921"
             ]
            ],
            "type": "histogram2d"
           }
          ],
          "histogram2dcontour": [
           {
            "colorbar": {
             "outlinewidth": 0,
             "ticks": ""
            },
            "colorscale": [
             [
              0,
              "#0d0887"
             ],
             [
              0.1111111111111111,
              "#46039f"
             ],
             [
              0.2222222222222222,
              "#7201a8"
             ],
             [
              0.3333333333333333,
              "#9c179e"
             ],
             [
              0.4444444444444444,
              "#bd3786"
             ],
             [
              0.5555555555555556,
              "#d8576b"
             ],
             [
              0.6666666666666666,
              "#ed7953"
             ],
             [
              0.7777777777777778,
              "#fb9f3a"
             ],
             [
              0.8888888888888888,
              "#fdca26"
             ],
             [
              1,
              "#f0f921"
             ]
            ],
            "type": "histogram2dcontour"
           }
          ],
          "mesh3d": [
           {
            "colorbar": {
             "outlinewidth": 0,
             "ticks": ""
            },
            "type": "mesh3d"
           }
          ],
          "parcoords": [
           {
            "line": {
             "colorbar": {
              "outlinewidth": 0,
              "ticks": ""
             }
            },
            "type": "parcoords"
           }
          ],
          "pie": [
           {
            "automargin": true,
            "type": "pie"
           }
          ],
          "scatter": [
           {
            "fillpattern": {
             "fillmode": "overlay",
             "size": 10,
             "solidity": 0.2
            },
            "type": "scatter"
           }
          ],
          "scatter3d": [
           {
            "line": {
             "colorbar": {
              "outlinewidth": 0,
              "ticks": ""
             }
            },
            "marker": {
             "colorbar": {
              "outlinewidth": 0,
              "ticks": ""
             }
            },
            "type": "scatter3d"
           }
          ],
          "scattercarpet": [
           {
            "marker": {
             "colorbar": {
              "outlinewidth": 0,
              "ticks": ""
             }
            },
            "type": "scattercarpet"
           }
          ],
          "scattergeo": [
           {
            "marker": {
             "colorbar": {
              "outlinewidth": 0,
              "ticks": ""
             }
            },
            "type": "scattergeo"
           }
          ],
          "scattergl": [
           {
            "marker": {
             "colorbar": {
              "outlinewidth": 0,
              "ticks": ""
             }
            },
            "type": "scattergl"
           }
          ],
          "scattermapbox": [
           {
            "marker": {
             "colorbar": {
              "outlinewidth": 0,
              "ticks": ""
             }
            },
            "type": "scattermapbox"
           }
          ],
          "scatterpolar": [
           {
            "marker": {
             "colorbar": {
              "outlinewidth": 0,
              "ticks": ""
             }
            },
            "type": "scatterpolar"
           }
          ],
          "scatterpolargl": [
           {
            "marker": {
             "colorbar": {
              "outlinewidth": 0,
              "ticks": ""
             }
            },
            "type": "scatterpolargl"
           }
          ],
          "scatterternary": [
           {
            "marker": {
             "colorbar": {
              "outlinewidth": 0,
              "ticks": ""
             }
            },
            "type": "scatterternary"
           }
          ],
          "surface": [
           {
            "colorbar": {
             "outlinewidth": 0,
             "ticks": ""
            },
            "colorscale": [
             [
              0,
              "#0d0887"
             ],
             [
              0.1111111111111111,
              "#46039f"
             ],
             [
              0.2222222222222222,
              "#7201a8"
             ],
             [
              0.3333333333333333,
              "#9c179e"
             ],
             [
              0.4444444444444444,
              "#bd3786"
             ],
             [
              0.5555555555555556,
              "#d8576b"
             ],
             [
              0.6666666666666666,
              "#ed7953"
             ],
             [
              0.7777777777777778,
              "#fb9f3a"
             ],
             [
              0.8888888888888888,
              "#fdca26"
             ],
             [
              1,
              "#f0f921"
             ]
            ],
            "type": "surface"
           }
          ],
          "table": [
           {
            "cells": {
             "fill": {
              "color": "#EBF0F8"
             },
             "line": {
              "color": "white"
             }
            },
            "header": {
             "fill": {
              "color": "#C8D4E3"
             },
             "line": {
              "color": "white"
             }
            },
            "type": "table"
           }
          ]
         },
         "layout": {
          "annotationdefaults": {
           "arrowcolor": "#2a3f5f",
           "arrowhead": 0,
           "arrowwidth": 1
          },
          "autotypenumbers": "strict",
          "coloraxis": {
           "colorbar": {
            "outlinewidth": 0,
            "ticks": ""
           }
          },
          "colorscale": {
           "diverging": [
            [
             0,
             "#8e0152"
            ],
            [
             0.1,
             "#c51b7d"
            ],
            [
             0.2,
             "#de77ae"
            ],
            [
             0.3,
             "#f1b6da"
            ],
            [
             0.4,
             "#fde0ef"
            ],
            [
             0.5,
             "#f7f7f7"
            ],
            [
             0.6,
             "#e6f5d0"
            ],
            [
             0.7,
             "#b8e186"
            ],
            [
             0.8,
             "#7fbc41"
            ],
            [
             0.9,
             "#4d9221"
            ],
            [
             1,
             "#276419"
            ]
           ],
           "sequential": [
            [
             0,
             "#0d0887"
            ],
            [
             0.1111111111111111,
             "#46039f"
            ],
            [
             0.2222222222222222,
             "#7201a8"
            ],
            [
             0.3333333333333333,
             "#9c179e"
            ],
            [
             0.4444444444444444,
             "#bd3786"
            ],
            [
             0.5555555555555556,
             "#d8576b"
            ],
            [
             0.6666666666666666,
             "#ed7953"
            ],
            [
             0.7777777777777778,
             "#fb9f3a"
            ],
            [
             0.8888888888888888,
             "#fdca26"
            ],
            [
             1,
             "#f0f921"
            ]
           ],
           "sequentialminus": [
            [
             0,
             "#0d0887"
            ],
            [
             0.1111111111111111,
             "#46039f"
            ],
            [
             0.2222222222222222,
             "#7201a8"
            ],
            [
             0.3333333333333333,
             "#9c179e"
            ],
            [
             0.4444444444444444,
             "#bd3786"
            ],
            [
             0.5555555555555556,
             "#d8576b"
            ],
            [
             0.6666666666666666,
             "#ed7953"
            ],
            [
             0.7777777777777778,
             "#fb9f3a"
            ],
            [
             0.8888888888888888,
             "#fdca26"
            ],
            [
             1,
             "#f0f921"
            ]
           ]
          },
          "colorway": [
           "#636efa",
           "#EF553B",
           "#00cc96",
           "#ab63fa",
           "#FFA15A",
           "#19d3f3",
           "#FF6692",
           "#B6E880",
           "#FF97FF",
           "#FECB52"
          ],
          "font": {
           "color": "#2a3f5f"
          },
          "geo": {
           "bgcolor": "white",
           "lakecolor": "white",
           "landcolor": "#E5ECF6",
           "showlakes": true,
           "showland": true,
           "subunitcolor": "white"
          },
          "hoverlabel": {
           "align": "left"
          },
          "hovermode": "closest",
          "mapbox": {
           "style": "light"
          },
          "paper_bgcolor": "white",
          "plot_bgcolor": "#E5ECF6",
          "polar": {
           "angularaxis": {
            "gridcolor": "white",
            "linecolor": "white",
            "ticks": ""
           },
           "bgcolor": "#E5ECF6",
           "radialaxis": {
            "gridcolor": "white",
            "linecolor": "white",
            "ticks": ""
           }
          },
          "scene": {
           "xaxis": {
            "backgroundcolor": "#E5ECF6",
            "gridcolor": "white",
            "gridwidth": 2,
            "linecolor": "white",
            "showbackground": true,
            "ticks": "",
            "zerolinecolor": "white"
           },
           "yaxis": {
            "backgroundcolor": "#E5ECF6",
            "gridcolor": "white",
            "gridwidth": 2,
            "linecolor": "white",
            "showbackground": true,
            "ticks": "",
            "zerolinecolor": "white"
           },
           "zaxis": {
            "backgroundcolor": "#E5ECF6",
            "gridcolor": "white",
            "gridwidth": 2,
            "linecolor": "white",
            "showbackground": true,
            "ticks": "",
            "zerolinecolor": "white"
           }
          },
          "shapedefaults": {
           "line": {
            "color": "#2a3f5f"
           }
          },
          "ternary": {
           "aaxis": {
            "gridcolor": "white",
            "linecolor": "white",
            "ticks": ""
           },
           "baxis": {
            "gridcolor": "white",
            "linecolor": "white",
            "ticks": ""
           },
           "bgcolor": "#E5ECF6",
           "caxis": {
            "gridcolor": "white",
            "linecolor": "white",
            "ticks": ""
           }
          },
          "title": {
           "x": 0.05
          },
          "xaxis": {
           "automargin": true,
           "gridcolor": "white",
           "linecolor": "white",
           "ticks": "",
           "title": {
            "standoff": 15
           },
           "zerolinecolor": "white",
           "zerolinewidth": 2
          },
          "yaxis": {
           "automargin": true,
           "gridcolor": "white",
           "linecolor": "white",
           "ticks": "",
           "title": {
            "standoff": 15
           },
           "zerolinecolor": "white",
           "zerolinewidth": 2
          }
         }
        }
       }
      }
     },
     "metadata": {},
     "output_type": "display_data"
    }
   ],
   "source": [
    "import plotly.offline as py\n",
    "import plotly.graph_objs as go\n",
    "Fours=go.Scatter(x=df_2['Span'], y=df_2['4s'], name='Four Boundaries')\n",
    "sixs=go.Scatter(x=df_2['Span'], y=df_2['6s'], name='six Boundaries')\n",
    "py.iplot([Fours,sixs])"
   ]
  },
  {
   "cell_type": "code",
   "execution_count": null,
   "metadata": {},
   "outputs": [],
   "source": []
  }
 ],
 "metadata": {
  "kernelspec": {
   "display_name": "base",
   "language": "python",
   "name": "python3"
  },
  "language_info": {
   "codemirror_mode": {
    "name": "ipython",
    "version": 3
   },
   "file_extension": ".py",
   "mimetype": "text/x-python",
   "name": "python",
   "nbconvert_exporter": "python",
   "pygments_lexer": "ipython3",
   "version": "3.11.5"
  }
 },
 "nbformat": 4,
 "nbformat_minor": 2
}
